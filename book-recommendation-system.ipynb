{
 "cells": [
  {
   "cell_type": "markdown",
   "id": "d1253a99",
   "metadata": {
    "papermill": {
     "duration": 0.038143,
     "end_time": "2022-06-24T18:54:38.265492",
     "exception": false,
     "start_time": "2022-06-24T18:54:38.227349",
     "status": "completed"
    },
    "tags": []
   },
   "source": [
    "# Book Recommendation System"
   ]
  },
  {
   "cell_type": "markdown",
   "id": "107be2dc",
   "metadata": {
    "papermill": {
     "duration": 0.032872,
     "end_time": "2022-06-24T18:54:38.331537",
     "exception": false,
     "start_time": "2022-06-24T18:54:38.298665",
     "status": "completed"
    },
    "tags": []
   },
   "source": [
    "During the last few decades, with the rise of Youtube, Amazon, Netflix, and many other such web services, recommender systems have taken more and more place in our lives. From e-commerce (suggest to buyers articles that could interest them) to online advertisement (suggest to users the right contents, matching their preferences), recommender systems are today unavoidable in our daily online journeys.\n",
    "\n",
    "In a very general way, recommender systems are algorithms aimed at suggesting relevant items to users (items being movies to watch, text to read, products to buy, or anything else depending on industries). Recommender systems are really critical in some industries as they can generate a huge amount of income when they are efficient or also be a way to stand out significantly from competitors. The main objective is to create a book recommendation system for users."
   ]
  },
  {
   "cell_type": "markdown",
   "id": "4053c367",
   "metadata": {
    "papermill": {
     "duration": 0.033321,
     "end_time": "2022-06-24T18:54:38.398745",
     "exception": false,
     "start_time": "2022-06-24T18:54:38.365424",
     "status": "completed"
    },
    "tags": []
   },
   "source": [
    "# Content\n",
    "## The Book-Crossing dataset comprises 3 files\n",
    "\n",
    "* Users \n",
    "\n",
    "Contains the users. Note that user IDs (User-ID) have been anonymized and map to\n",
    "integers. Demographic data is provided (Location, Age) if available. Otherwise, these\n",
    "fields contain NULL values.\n",
    "\n",
    "* Books \n",
    "\n",
    "Books are identified by their respective ISBN. Invalid ISBNs have already been removed\n",
    "from the dataset. Moreover, some content-based information is given (Book-Title,\n",
    "Book-Author, Year-Of-Publication, Publisher), obtained from Amazon Web\n",
    "Services. Note that in the case of several authors, only the first is provided. URLs linking\n",
    "to cover images are also given, appearing in three different flavors (Image-URL-S,\n",
    "Image-URL-M, Image-URL-L), i.e., small, medium, large. These URLs point to the\n",
    "Amazon website.\n",
    "\n",
    "* Ratings\n",
    "\n",
    "Contains the book rating information. Ratings (Book-Rating) are either explicit,\n",
    "expressed on a scale from 1-10 (higher values denoting higher appreciation), or implicit,\n",
    "expressed by 0."
   ]
  },
  {
   "cell_type": "markdown",
   "id": "ac834fb0",
   "metadata": {
    "papermill": {
     "duration": 0.03309,
     "end_time": "2022-06-24T18:54:38.464977",
     "exception": false,
     "start_time": "2022-06-24T18:54:38.431887",
     "status": "completed"
    },
    "tags": []
   },
   "source": [
    "**Importing Libraries**"
   ]
  },
  {
   "cell_type": "code",
   "execution_count": 1,
   "id": "ba121482",
   "metadata": {
    "execution": {
     "iopub.execute_input": "2022-06-24T18:54:38.535303Z",
     "iopub.status.busy": "2022-06-24T18:54:38.534599Z",
     "iopub.status.idle": "2022-06-24T18:54:39.732141Z",
     "shell.execute_reply": "2022-06-24T18:54:39.731138Z"
    },
    "papermill": {
     "duration": 1.235768,
     "end_time": "2022-06-24T18:54:39.734931",
     "exception": false,
     "start_time": "2022-06-24T18:54:38.499163",
     "status": "completed"
    },
    "tags": []
   },
   "outputs": [],
   "source": [
    "import numpy as np # linear algebra\n",
    "import pandas as pd # data processing\n",
    "import matplotlib.pyplot as plt\n",
    "import seaborn as sns\n",
    "import sklearn\n",
    "import warnings; warnings.simplefilter('ignore')"
   ]
  },
  {
   "cell_type": "markdown",
   "id": "dd5a396d",
   "metadata": {
    "papermill": {
     "duration": 0.033403,
     "end_time": "2022-06-24T18:54:39.801603",
     "exception": false,
     "start_time": "2022-06-24T18:54:39.768200",
     "status": "completed"
    },
    "tags": []
   },
   "source": [
    "**Book Data**"
   ]
  },
  {
   "cell_type": "code",
   "execution_count": 2,
   "id": "d9497679",
   "metadata": {
    "execution": {
     "iopub.execute_input": "2022-06-24T18:54:39.870847Z",
     "iopub.status.busy": "2022-06-24T18:54:39.870325Z",
     "iopub.status.idle": "2022-06-24T18:54:42.544466Z",
     "shell.execute_reply": "2022-06-24T18:54:42.543269Z"
    },
    "papermill": {
     "duration": 2.712376,
     "end_time": "2022-06-24T18:54:42.547715",
     "exception": false,
     "start_time": "2022-06-24T18:54:39.835339",
     "status": "completed"
    },
    "tags": []
   },
   "outputs": [
    {
     "data": {
      "text/html": [
       "<div>\n",
       "<style scoped>\n",
       "    .dataframe tbody tr th:only-of-type {\n",
       "        vertical-align: middle;\n",
       "    }\n",
       "\n",
       "    .dataframe tbody tr th {\n",
       "        vertical-align: top;\n",
       "    }\n",
       "\n",
       "    .dataframe thead th {\n",
       "        text-align: right;\n",
       "    }\n",
       "</style>\n",
       "<table border=\"1\" class=\"dataframe\">\n",
       "  <thead>\n",
       "    <tr style=\"text-align: right;\">\n",
       "      <th></th>\n",
       "      <th>ISBN</th>\n",
       "      <th>Book-Title</th>\n",
       "      <th>Book-Author</th>\n",
       "      <th>Year-Of-Publication</th>\n",
       "      <th>Publisher</th>\n",
       "      <th>Image-URL-S</th>\n",
       "      <th>Image-URL-M</th>\n",
       "      <th>Image-URL-L</th>\n",
       "    </tr>\n",
       "  </thead>\n",
       "  <tbody>\n",
       "    <tr>\n",
       "      <th>0</th>\n",
       "      <td>0195153448</td>\n",
       "      <td>Classical Mythology</td>\n",
       "      <td>Mark P. O. Morford</td>\n",
       "      <td>2002</td>\n",
       "      <td>Oxford University Press</td>\n",
       "      <td>http://images.amazon.com/images/P/0195153448.0...</td>\n",
       "      <td>http://images.amazon.com/images/P/0195153448.0...</td>\n",
       "      <td>http://images.amazon.com/images/P/0195153448.0...</td>\n",
       "    </tr>\n",
       "    <tr>\n",
       "      <th>1</th>\n",
       "      <td>0002005018</td>\n",
       "      <td>Clara Callan</td>\n",
       "      <td>Richard Bruce Wright</td>\n",
       "      <td>2001</td>\n",
       "      <td>HarperFlamingo Canada</td>\n",
       "      <td>http://images.amazon.com/images/P/0002005018.0...</td>\n",
       "      <td>http://images.amazon.com/images/P/0002005018.0...</td>\n",
       "      <td>http://images.amazon.com/images/P/0002005018.0...</td>\n",
       "    </tr>\n",
       "    <tr>\n",
       "      <th>2</th>\n",
       "      <td>0060973129</td>\n",
       "      <td>Decision in Normandy</td>\n",
       "      <td>Carlo D'Este</td>\n",
       "      <td>1991</td>\n",
       "      <td>HarperPerennial</td>\n",
       "      <td>http://images.amazon.com/images/P/0060973129.0...</td>\n",
       "      <td>http://images.amazon.com/images/P/0060973129.0...</td>\n",
       "      <td>http://images.amazon.com/images/P/0060973129.0...</td>\n",
       "    </tr>\n",
       "    <tr>\n",
       "      <th>3</th>\n",
       "      <td>0374157065</td>\n",
       "      <td>Flu: The Story of the Great Influenza Pandemic...</td>\n",
       "      <td>Gina Bari Kolata</td>\n",
       "      <td>1999</td>\n",
       "      <td>Farrar Straus Giroux</td>\n",
       "      <td>http://images.amazon.com/images/P/0374157065.0...</td>\n",
       "      <td>http://images.amazon.com/images/P/0374157065.0...</td>\n",
       "      <td>http://images.amazon.com/images/P/0374157065.0...</td>\n",
       "    </tr>\n",
       "    <tr>\n",
       "      <th>4</th>\n",
       "      <td>0393045218</td>\n",
       "      <td>The Mummies of Urumchi</td>\n",
       "      <td>E. J. W. Barber</td>\n",
       "      <td>1999</td>\n",
       "      <td>W. W. Norton &amp;amp; Company</td>\n",
       "      <td>http://images.amazon.com/images/P/0393045218.0...</td>\n",
       "      <td>http://images.amazon.com/images/P/0393045218.0...</td>\n",
       "      <td>http://images.amazon.com/images/P/0393045218.0...</td>\n",
       "    </tr>\n",
       "  </tbody>\n",
       "</table>\n",
       "</div>"
      ],
      "text/plain": [
       "         ISBN                                         Book-Title  \\\n",
       "0  0195153448                                Classical Mythology   \n",
       "1  0002005018                                       Clara Callan   \n",
       "2  0060973129                               Decision in Normandy   \n",
       "3  0374157065  Flu: The Story of the Great Influenza Pandemic...   \n",
       "4  0393045218                             The Mummies of Urumchi   \n",
       "\n",
       "            Book-Author Year-Of-Publication                   Publisher  \\\n",
       "0    Mark P. O. Morford                2002     Oxford University Press   \n",
       "1  Richard Bruce Wright                2001       HarperFlamingo Canada   \n",
       "2          Carlo D'Este                1991             HarperPerennial   \n",
       "3      Gina Bari Kolata                1999        Farrar Straus Giroux   \n",
       "4       E. J. W. Barber                1999  W. W. Norton &amp; Company   \n",
       "\n",
       "                                         Image-URL-S  \\\n",
       "0  http://images.amazon.com/images/P/0195153448.0...   \n",
       "1  http://images.amazon.com/images/P/0002005018.0...   \n",
       "2  http://images.amazon.com/images/P/0060973129.0...   \n",
       "3  http://images.amazon.com/images/P/0374157065.0...   \n",
       "4  http://images.amazon.com/images/P/0393045218.0...   \n",
       "\n",
       "                                         Image-URL-M  \\\n",
       "0  http://images.amazon.com/images/P/0195153448.0...   \n",
       "1  http://images.amazon.com/images/P/0002005018.0...   \n",
       "2  http://images.amazon.com/images/P/0060973129.0...   \n",
       "3  http://images.amazon.com/images/P/0374157065.0...   \n",
       "4  http://images.amazon.com/images/P/0393045218.0...   \n",
       "\n",
       "                                         Image-URL-L  \n",
       "0  http://images.amazon.com/images/P/0195153448.0...  \n",
       "1  http://images.amazon.com/images/P/0002005018.0...  \n",
       "2  http://images.amazon.com/images/P/0060973129.0...  \n",
       "3  http://images.amazon.com/images/P/0374157065.0...  \n",
       "4  http://images.amazon.com/images/P/0393045218.0...  "
      ]
     },
     "execution_count": 2,
     "metadata": {},
     "output_type": "execute_result"
    }
   ],
   "source": [
    "\n",
    "book_data = pd.read_csv(\"../input/bookrecommendationsystem/Books.csv\")\n",
    "book_data.head()\n"
   ]
  },
  {
   "cell_type": "code",
   "execution_count": 3,
   "id": "2701db38",
   "metadata": {
    "execution": {
     "iopub.execute_input": "2022-06-24T18:54:42.618624Z",
     "iopub.status.busy": "2022-06-24T18:54:42.618214Z",
     "iopub.status.idle": "2022-06-24T18:54:42.835229Z",
     "shell.execute_reply": "2022-06-24T18:54:42.834200Z"
    },
    "papermill": {
     "duration": 0.256368,
     "end_time": "2022-06-24T18:54:42.838734",
     "exception": false,
     "start_time": "2022-06-24T18:54:42.582366",
     "status": "completed"
    },
    "tags": []
   },
   "outputs": [
    {
     "name": "stdout",
     "output_type": "stream",
     "text": [
      "<class 'pandas.core.frame.DataFrame'>\n",
      "RangeIndex: 271360 entries, 0 to 271359\n",
      "Data columns (total 8 columns):\n",
      " #   Column               Non-Null Count   Dtype \n",
      "---  ------               --------------   ----- \n",
      " 0   ISBN                 271360 non-null  object\n",
      " 1   Book-Title           271360 non-null  object\n",
      " 2   Book-Author          271359 non-null  object\n",
      " 3   Year-Of-Publication  271360 non-null  object\n",
      " 4   Publisher            271358 non-null  object\n",
      " 5   Image-URL-S          271360 non-null  object\n",
      " 6   Image-URL-M          271360 non-null  object\n",
      " 7   Image-URL-L          271357 non-null  object\n",
      "dtypes: object(8)\n",
      "memory usage: 16.6+ MB\n"
     ]
    }
   ],
   "source": [
    "book_data.info()"
   ]
  },
  {
   "cell_type": "code",
   "execution_count": 4,
   "id": "b3787f6a",
   "metadata": {
    "execution": {
     "iopub.execute_input": "2022-06-24T18:54:42.910888Z",
     "iopub.status.busy": "2022-06-24T18:54:42.910490Z",
     "iopub.status.idle": "2022-06-24T18:54:42.917193Z",
     "shell.execute_reply": "2022-06-24T18:54:42.916183Z"
    },
    "papermill": {
     "duration": 0.045431,
     "end_time": "2022-06-24T18:54:42.919419",
     "exception": false,
     "start_time": "2022-06-24T18:54:42.873988",
     "status": "completed"
    },
    "tags": []
   },
   "outputs": [
    {
     "data": {
      "text/plain": [
       "(271360, 8)"
      ]
     },
     "execution_count": 4,
     "metadata": {},
     "output_type": "execute_result"
    }
   ],
   "source": [
    "book_data.shape"
   ]
  },
  {
   "cell_type": "markdown",
   "id": "53b4830d",
   "metadata": {
    "papermill": {
     "duration": 0.03421,
     "end_time": "2022-06-24T18:54:42.987838",
     "exception": false,
     "start_time": "2022-06-24T18:54:42.953628",
     "status": "completed"
    },
    "tags": []
   },
   "source": [
    "**Users Data**"
   ]
  },
  {
   "cell_type": "code",
   "execution_count": 5,
   "id": "3c6bef1c",
   "metadata": {
    "execution": {
     "iopub.execute_input": "2022-06-24T18:54:43.060597Z",
     "iopub.status.busy": "2022-06-24T18:54:43.059698Z",
     "iopub.status.idle": "2022-06-24T18:54:43.418769Z",
     "shell.execute_reply": "2022-06-24T18:54:43.417676Z"
    },
    "papermill": {
     "duration": 0.398055,
     "end_time": "2022-06-24T18:54:43.421035",
     "exception": false,
     "start_time": "2022-06-24T18:54:43.022980",
     "status": "completed"
    },
    "tags": []
   },
   "outputs": [
    {
     "data": {
      "text/html": [
       "<div>\n",
       "<style scoped>\n",
       "    .dataframe tbody tr th:only-of-type {\n",
       "        vertical-align: middle;\n",
       "    }\n",
       "\n",
       "    .dataframe tbody tr th {\n",
       "        vertical-align: top;\n",
       "    }\n",
       "\n",
       "    .dataframe thead th {\n",
       "        text-align: right;\n",
       "    }\n",
       "</style>\n",
       "<table border=\"1\" class=\"dataframe\">\n",
       "  <thead>\n",
       "    <tr style=\"text-align: right;\">\n",
       "      <th></th>\n",
       "      <th>User-ID</th>\n",
       "      <th>Location</th>\n",
       "      <th>Age</th>\n",
       "    </tr>\n",
       "  </thead>\n",
       "  <tbody>\n",
       "    <tr>\n",
       "      <th>0</th>\n",
       "      <td>1</td>\n",
       "      <td>nyc, new york, usa</td>\n",
       "      <td>NaN</td>\n",
       "    </tr>\n",
       "    <tr>\n",
       "      <th>1</th>\n",
       "      <td>2</td>\n",
       "      <td>stockton, california, usa</td>\n",
       "      <td>18.0</td>\n",
       "    </tr>\n",
       "    <tr>\n",
       "      <th>2</th>\n",
       "      <td>3</td>\n",
       "      <td>moscow, yukon territory, russia</td>\n",
       "      <td>NaN</td>\n",
       "    </tr>\n",
       "    <tr>\n",
       "      <th>3</th>\n",
       "      <td>4</td>\n",
       "      <td>porto, v.n.gaia, portugal</td>\n",
       "      <td>17.0</td>\n",
       "    </tr>\n",
       "    <tr>\n",
       "      <th>4</th>\n",
       "      <td>5</td>\n",
       "      <td>farnborough, hants, united kingdom</td>\n",
       "      <td>NaN</td>\n",
       "    </tr>\n",
       "  </tbody>\n",
       "</table>\n",
       "</div>"
      ],
      "text/plain": [
       "   User-ID                            Location   Age\n",
       "0        1                  nyc, new york, usa   NaN\n",
       "1        2           stockton, california, usa  18.0\n",
       "2        3     moscow, yukon territory, russia   NaN\n",
       "3        4           porto, v.n.gaia, portugal  17.0\n",
       "4        5  farnborough, hants, united kingdom   NaN"
      ]
     },
     "execution_count": 5,
     "metadata": {},
     "output_type": "execute_result"
    }
   ],
   "source": [
    "users_data= pd.read_csv('../input/bookrecommendationsystem/Users.csv')\n",
    "users_data.head()"
   ]
  },
  {
   "cell_type": "code",
   "execution_count": 6,
   "id": "1c3d4e5a",
   "metadata": {
    "execution": {
     "iopub.execute_input": "2022-06-24T18:54:43.494660Z",
     "iopub.status.busy": "2022-06-24T18:54:43.494199Z",
     "iopub.status.idle": "2022-06-24T18:54:43.537518Z",
     "shell.execute_reply": "2022-06-24T18:54:43.536057Z"
    },
    "papermill": {
     "duration": 0.083593,
     "end_time": "2022-06-24T18:54:43.539990",
     "exception": false,
     "start_time": "2022-06-24T18:54:43.456397",
     "status": "completed"
    },
    "tags": []
   },
   "outputs": [
    {
     "name": "stdout",
     "output_type": "stream",
     "text": [
      "<class 'pandas.core.frame.DataFrame'>\n",
      "RangeIndex: 278858 entries, 0 to 278857\n",
      "Data columns (total 3 columns):\n",
      " #   Column    Non-Null Count   Dtype  \n",
      "---  ------    --------------   -----  \n",
      " 0   User-ID   278858 non-null  int64  \n",
      " 1   Location  278858 non-null  object \n",
      " 2   Age       168096 non-null  float64\n",
      "dtypes: float64(1), int64(1), object(1)\n",
      "memory usage: 6.4+ MB\n"
     ]
    }
   ],
   "source": [
    "users_data.info()"
   ]
  },
  {
   "cell_type": "code",
   "execution_count": 7,
   "id": "82c7c5fa",
   "metadata": {
    "execution": {
     "iopub.execute_input": "2022-06-24T18:54:43.612483Z",
     "iopub.status.busy": "2022-06-24T18:54:43.611994Z",
     "iopub.status.idle": "2022-06-24T18:54:43.618914Z",
     "shell.execute_reply": "2022-06-24T18:54:43.617934Z"
    },
    "papermill": {
     "duration": 0.047652,
     "end_time": "2022-06-24T18:54:43.622480",
     "exception": false,
     "start_time": "2022-06-24T18:54:43.574828",
     "status": "completed"
    },
    "tags": []
   },
   "outputs": [
    {
     "data": {
      "text/plain": [
       "(278858, 3)"
      ]
     },
     "execution_count": 7,
     "metadata": {},
     "output_type": "execute_result"
    }
   ],
   "source": [
    "users_data.shape"
   ]
  },
  {
   "cell_type": "markdown",
   "id": "146b385d",
   "metadata": {
    "papermill": {
     "duration": 0.033953,
     "end_time": "2022-06-24T18:54:43.690778",
     "exception": false,
     "start_time": "2022-06-24T18:54:43.656825",
     "status": "completed"
    },
    "tags": []
   },
   "source": [
    "**Ratings Data**"
   ]
  },
  {
   "cell_type": "code",
   "execution_count": 8,
   "id": "cce86127",
   "metadata": {
    "execution": {
     "iopub.execute_input": "2022-06-24T18:54:43.761907Z",
     "iopub.status.busy": "2022-06-24T18:54:43.761440Z",
     "iopub.status.idle": "2022-06-24T18:54:44.711962Z",
     "shell.execute_reply": "2022-06-24T18:54:44.710905Z"
    },
    "papermill": {
     "duration": 0.98899,
     "end_time": "2022-06-24T18:54:44.714051",
     "exception": false,
     "start_time": "2022-06-24T18:54:43.725061",
     "status": "completed"
    },
    "tags": []
   },
   "outputs": [
    {
     "data": {
      "text/html": [
       "<div>\n",
       "<style scoped>\n",
       "    .dataframe tbody tr th:only-of-type {\n",
       "        vertical-align: middle;\n",
       "    }\n",
       "\n",
       "    .dataframe tbody tr th {\n",
       "        vertical-align: top;\n",
       "    }\n",
       "\n",
       "    .dataframe thead th {\n",
       "        text-align: right;\n",
       "    }\n",
       "</style>\n",
       "<table border=\"1\" class=\"dataframe\">\n",
       "  <thead>\n",
       "    <tr style=\"text-align: right;\">\n",
       "      <th></th>\n",
       "      <th>User-ID</th>\n",
       "      <th>ISBN</th>\n",
       "      <th>Book-Rating</th>\n",
       "    </tr>\n",
       "  </thead>\n",
       "  <tbody>\n",
       "    <tr>\n",
       "      <th>0</th>\n",
       "      <td>276725</td>\n",
       "      <td>034545104X</td>\n",
       "      <td>0</td>\n",
       "    </tr>\n",
       "    <tr>\n",
       "      <th>1</th>\n",
       "      <td>276726</td>\n",
       "      <td>0155061224</td>\n",
       "      <td>5</td>\n",
       "    </tr>\n",
       "    <tr>\n",
       "      <th>2</th>\n",
       "      <td>276727</td>\n",
       "      <td>0446520802</td>\n",
       "      <td>0</td>\n",
       "    </tr>\n",
       "    <tr>\n",
       "      <th>3</th>\n",
       "      <td>276729</td>\n",
       "      <td>052165615X</td>\n",
       "      <td>3</td>\n",
       "    </tr>\n",
       "    <tr>\n",
       "      <th>4</th>\n",
       "      <td>276729</td>\n",
       "      <td>0521795028</td>\n",
       "      <td>6</td>\n",
       "    </tr>\n",
       "  </tbody>\n",
       "</table>\n",
       "</div>"
      ],
      "text/plain": [
       "   User-ID        ISBN  Book-Rating\n",
       "0   276725  034545104X            0\n",
       "1   276726  0155061224            5\n",
       "2   276727  0446520802            0\n",
       "3   276729  052165615X            3\n",
       "4   276729  0521795028            6"
      ]
     },
     "execution_count": 8,
     "metadata": {},
     "output_type": "execute_result"
    }
   ],
   "source": [
    "ratings_data = pd.read_csv(\"../input/bookrecommendationsystem/Ratings.csv\")\n",
    "ratings_data.head()"
   ]
  },
  {
   "cell_type": "code",
   "execution_count": 9,
   "id": "b2984c62",
   "metadata": {
    "execution": {
     "iopub.execute_input": "2022-06-24T18:54:44.791802Z",
     "iopub.status.busy": "2022-06-24T18:54:44.790790Z",
     "iopub.status.idle": "2022-06-24T18:54:44.919029Z",
     "shell.execute_reply": "2022-06-24T18:54:44.917762Z"
    },
    "papermill": {
     "duration": 0.173102,
     "end_time": "2022-06-24T18:54:44.921824",
     "exception": false,
     "start_time": "2022-06-24T18:54:44.748722",
     "status": "completed"
    },
    "tags": []
   },
   "outputs": [
    {
     "name": "stdout",
     "output_type": "stream",
     "text": [
      "<class 'pandas.core.frame.DataFrame'>\n",
      "RangeIndex: 1149780 entries, 0 to 1149779\n",
      "Data columns (total 3 columns):\n",
      " #   Column       Non-Null Count    Dtype \n",
      "---  ------       --------------    ----- \n",
      " 0   User-ID      1149780 non-null  int64 \n",
      " 1   ISBN         1149780 non-null  object\n",
      " 2   Book-Rating  1149780 non-null  int64 \n",
      "dtypes: int64(2), object(1)\n",
      "memory usage: 26.3+ MB\n"
     ]
    }
   ],
   "source": [
    "ratings_data.info()"
   ]
  },
  {
   "cell_type": "code",
   "execution_count": 10,
   "id": "bbba1d23",
   "metadata": {
    "execution": {
     "iopub.execute_input": "2022-06-24T18:54:44.994168Z",
     "iopub.status.busy": "2022-06-24T18:54:44.993739Z",
     "iopub.status.idle": "2022-06-24T18:54:45.000988Z",
     "shell.execute_reply": "2022-06-24T18:54:44.999888Z"
    },
    "papermill": {
     "duration": 0.045723,
     "end_time": "2022-06-24T18:54:45.003168",
     "exception": false,
     "start_time": "2022-06-24T18:54:44.957445",
     "status": "completed"
    },
    "tags": []
   },
   "outputs": [
    {
     "data": {
      "text/plain": [
       "(1149780, 3)"
      ]
     },
     "execution_count": 10,
     "metadata": {},
     "output_type": "execute_result"
    }
   ],
   "source": [
    "ratings_data.shape"
   ]
  },
  {
   "cell_type": "markdown",
   "id": "20a8eb31",
   "metadata": {
    "papermill": {
     "duration": 0.034903,
     "end_time": "2022-06-24T18:54:45.072876",
     "exception": false,
     "start_time": "2022-06-24T18:54:45.037973",
     "status": "completed"
    },
    "tags": []
   },
   "source": [
    "# Data Preparation (Data Cleaning and Feature Engineering)"
   ]
  },
  {
   "cell_type": "markdown",
   "id": "f35bb6a5",
   "metadata": {
    "papermill": {
     "duration": 0.035926,
     "end_time": "2022-06-24T18:54:45.144531",
     "exception": false,
     "start_time": "2022-06-24T18:54:45.108605",
     "status": "completed"
    },
    "tags": []
   },
   "source": [
    "## Let's take first book_data dataset"
   ]
  },
  {
   "cell_type": "code",
   "execution_count": 11,
   "id": "681bce4f",
   "metadata": {
    "execution": {
     "iopub.execute_input": "2022-06-24T18:54:45.218379Z",
     "iopub.status.busy": "2022-06-24T18:54:45.217916Z",
     "iopub.status.idle": "2022-06-24T18:54:45.251492Z",
     "shell.execute_reply": "2022-06-24T18:54:45.250507Z"
    },
    "papermill": {
     "duration": 0.073609,
     "end_time": "2022-06-24T18:54:45.254109",
     "exception": false,
     "start_time": "2022-06-24T18:54:45.180500",
     "status": "completed"
    },
    "tags": []
   },
   "outputs": [],
   "source": [
    "# droping the url and replacing '-' with '_'\n",
    "book_data.drop(['Image-URL-S', 'Image-URL-M', 'Image-URL-L'], axis= 1, inplace= True)\n",
    "book_data.columns= book_data.columns.str.strip().str.lower().str.replace('-', '_')\n",
    "users_data.columns= users_data.columns.str.strip().str.lower().str.replace('-', '_')\n",
    "ratings_data.columns= ratings_data.columns.str.strip().str.lower().str.replace('-', '_')"
   ]
  },
  {
   "cell_type": "code",
   "execution_count": 12,
   "id": "296eef2c",
   "metadata": {
    "execution": {
     "iopub.execute_input": "2022-06-24T18:54:45.327136Z",
     "iopub.status.busy": "2022-06-24T18:54:45.326699Z",
     "iopub.status.idle": "2022-06-24T18:54:45.331874Z",
     "shell.execute_reply": "2022-06-24T18:54:45.330816Z"
    },
    "papermill": {
     "duration": 0.044328,
     "end_time": "2022-06-24T18:54:45.334285",
     "exception": false,
     "start_time": "2022-06-24T18:54:45.289957",
     "status": "completed"
    },
    "tags": []
   },
   "outputs": [],
   "source": [
    "pd.set_option('display.max_colwidth', -1)"
   ]
  },
  {
   "cell_type": "code",
   "execution_count": 13,
   "id": "1b80333d",
   "metadata": {
    "execution": {
     "iopub.execute_input": "2022-06-24T18:54:45.406079Z",
     "iopub.status.busy": "2022-06-24T18:54:45.405689Z",
     "iopub.status.idle": "2022-06-24T18:54:45.540879Z",
     "shell.execute_reply": "2022-06-24T18:54:45.539035Z"
    },
    "papermill": {
     "duration": 0.174726,
     "end_time": "2022-06-24T18:54:45.544565",
     "exception": false,
     "start_time": "2022-06-24T18:54:45.369839",
     "status": "completed"
    },
    "tags": []
   },
   "outputs": [
    {
     "name": "stdout",
     "output_type": "stream",
     "text": [
      "<class 'pandas.core.frame.DataFrame'>\n",
      "RangeIndex: 271360 entries, 0 to 271359\n",
      "Data columns (total 5 columns):\n",
      " #   Column               Non-Null Count   Dtype \n",
      "---  ------               --------------   ----- \n",
      " 0   isbn                 271360 non-null  object\n",
      " 1   book_title           271360 non-null  object\n",
      " 2   book_author          271359 non-null  object\n",
      " 3   year_of_publication  271360 non-null  object\n",
      " 4   publisher            271358 non-null  object\n",
      "dtypes: object(5)\n",
      "memory usage: 10.4+ MB\n"
     ]
    }
   ],
   "source": [
    "book_data.info()"
   ]
  },
  {
   "cell_type": "markdown",
   "id": "3b9b6fa7",
   "metadata": {
    "papermill": {
     "duration": 0.035665,
     "end_time": "2022-06-24T18:54:45.616249",
     "exception": false,
     "start_time": "2022-06-24T18:54:45.580584",
     "status": "completed"
    },
    "tags": []
   },
   "source": [
    "Let's see null values in book_data."
   ]
  },
  {
   "cell_type": "code",
   "execution_count": 14,
   "id": "3ed5d275",
   "metadata": {
    "execution": {
     "iopub.execute_input": "2022-06-24T18:54:45.689144Z",
     "iopub.status.busy": "2022-06-24T18:54:45.688233Z",
     "iopub.status.idle": "2022-06-24T18:54:45.817464Z",
     "shell.execute_reply": "2022-06-24T18:54:45.815667Z"
    },
    "papermill": {
     "duration": 0.169327,
     "end_time": "2022-06-24T18:54:45.821051",
     "exception": false,
     "start_time": "2022-06-24T18:54:45.651724",
     "status": "completed"
    },
    "tags": []
   },
   "outputs": [
    {
     "name": "stdout",
     "output_type": "stream",
     "text": [
      "isbn                   0\n",
      "book_title             0\n",
      "book_author            1\n",
      "year_of_publication    0\n",
      "publisher              2\n",
      "dtype: int64\n"
     ]
    }
   ],
   "source": [
    "print(book_data.isnull().sum())"
   ]
  },
  {
   "cell_type": "code",
   "execution_count": 15,
   "id": "8caaaed2",
   "metadata": {
    "execution": {
     "iopub.execute_input": "2022-06-24T18:54:45.893502Z",
     "iopub.status.busy": "2022-06-24T18:54:45.892951Z",
     "iopub.status.idle": "2022-06-24T18:54:45.931036Z",
     "shell.execute_reply": "2022-06-24T18:54:45.929998Z"
    },
    "papermill": {
     "duration": 0.076623,
     "end_time": "2022-06-24T18:54:45.933166",
     "exception": false,
     "start_time": "2022-06-24T18:54:45.856543",
     "status": "completed"
    },
    "tags": []
   },
   "outputs": [
    {
     "data": {
      "text/html": [
       "<div>\n",
       "<style scoped>\n",
       "    .dataframe tbody tr th:only-of-type {\n",
       "        vertical-align: middle;\n",
       "    }\n",
       "\n",
       "    .dataframe tbody tr th {\n",
       "        vertical-align: top;\n",
       "    }\n",
       "\n",
       "    .dataframe thead th {\n",
       "        text-align: right;\n",
       "    }\n",
       "</style>\n",
       "<table border=\"1\" class=\"dataframe\">\n",
       "  <thead>\n",
       "    <tr style=\"text-align: right;\">\n",
       "      <th></th>\n",
       "      <th>isbn</th>\n",
       "      <th>book_title</th>\n",
       "      <th>book_author</th>\n",
       "      <th>year_of_publication</th>\n",
       "      <th>publisher</th>\n",
       "    </tr>\n",
       "  </thead>\n",
       "  <tbody>\n",
       "    <tr>\n",
       "      <th>187689</th>\n",
       "      <td>9627982032</td>\n",
       "      <td>The Credit Suisse Guide to Managing Your Personal Wealth</td>\n",
       "      <td>NaN</td>\n",
       "      <td>1995</td>\n",
       "      <td>Edinburgh Financial Publishing</td>\n",
       "    </tr>\n",
       "  </tbody>\n",
       "</table>\n",
       "</div>"
      ],
      "text/plain": [
       "              isbn                                                book_title  \\\n",
       "187689  9627982032  The Credit Suisse Guide to Managing Your Personal Wealth   \n",
       "\n",
       "       book_author year_of_publication                       publisher  \n",
       "187689  NaN         1995                Edinburgh Financial Publishing  "
      ]
     },
     "execution_count": 15,
     "metadata": {},
     "output_type": "execute_result"
    }
   ],
   "source": [
    "# nan values in particular column\n",
    "book_data.loc[(book_data['book_author'].isnull()),: ]"
   ]
  },
  {
   "cell_type": "code",
   "execution_count": 16,
   "id": "ec034a5c",
   "metadata": {
    "execution": {
     "iopub.execute_input": "2022-06-24T18:54:46.006599Z",
     "iopub.status.busy": "2022-06-24T18:54:46.005960Z",
     "iopub.status.idle": "2022-06-24T18:54:46.042330Z",
     "shell.execute_reply": "2022-06-24T18:54:46.041602Z"
    },
    "papermill": {
     "duration": 0.075131,
     "end_time": "2022-06-24T18:54:46.044232",
     "exception": false,
     "start_time": "2022-06-24T18:54:45.969101",
     "status": "completed"
    },
    "tags": []
   },
   "outputs": [
    {
     "data": {
      "text/html": [
       "<div>\n",
       "<style scoped>\n",
       "    .dataframe tbody tr th:only-of-type {\n",
       "        vertical-align: middle;\n",
       "    }\n",
       "\n",
       "    .dataframe tbody tr th {\n",
       "        vertical-align: top;\n",
       "    }\n",
       "\n",
       "    .dataframe thead th {\n",
       "        text-align: right;\n",
       "    }\n",
       "</style>\n",
       "<table border=\"1\" class=\"dataframe\">\n",
       "  <thead>\n",
       "    <tr style=\"text-align: right;\">\n",
       "      <th></th>\n",
       "      <th>isbn</th>\n",
       "      <th>book_title</th>\n",
       "      <th>book_author</th>\n",
       "      <th>year_of_publication</th>\n",
       "      <th>publisher</th>\n",
       "    </tr>\n",
       "  </thead>\n",
       "  <tbody>\n",
       "    <tr>\n",
       "      <th>128890</th>\n",
       "      <td>193169656X</td>\n",
       "      <td>Tyrant Moon</td>\n",
       "      <td>Elaine Corvidae</td>\n",
       "      <td>2002</td>\n",
       "      <td>NaN</td>\n",
       "    </tr>\n",
       "    <tr>\n",
       "      <th>129037</th>\n",
       "      <td>1931696993</td>\n",
       "      <td>Finders Keepers</td>\n",
       "      <td>Linnea Sinclair</td>\n",
       "      <td>2001</td>\n",
       "      <td>NaN</td>\n",
       "    </tr>\n",
       "  </tbody>\n",
       "</table>\n",
       "</div>"
      ],
      "text/plain": [
       "              isbn       book_title      book_author year_of_publication  \\\n",
       "128890  193169656X  Tyrant Moon      Elaine Corvidae  2002                 \n",
       "129037  1931696993  Finders Keepers  Linnea Sinclair  2001                 \n",
       "\n",
       "       publisher  \n",
       "128890  NaN       \n",
       "129037  NaN       "
      ]
     },
     "execution_count": 16,
     "metadata": {},
     "output_type": "execute_result"
    }
   ],
   "source": [
    "# nan values in particular column\n",
    "book_data.loc[(book_data['publisher'].isnull()),: ]"
   ]
  },
  {
   "cell_type": "markdown",
   "id": "fbc4b9d9",
   "metadata": {
    "papermill": {
     "duration": 0.036177,
     "end_time": "2022-06-24T18:54:46.115863",
     "exception": false,
     "start_time": "2022-06-24T18:54:46.079686",
     "status": "completed"
    },
    "tags": []
   },
   "source": [
    "We pointed null values in 'book_author' and 'publisher' feature."
   ]
  },
  {
   "cell_type": "markdown",
   "id": "6c9e5b25",
   "metadata": {
    "papermill": {
     "duration": 0.035935,
     "end_time": "2022-06-24T18:54:46.188965",
     "exception": false,
     "start_time": "2022-06-24T18:54:46.153030",
     "status": "completed"
    },
    "tags": []
   },
   "source": [
    "Let's look at the unique years to realize the time period as this dataset was created in 2004."
   ]
  },
  {
   "cell_type": "code",
   "execution_count": 17,
   "id": "c57abe6a",
   "metadata": {
    "execution": {
     "iopub.execute_input": "2022-06-24T18:54:46.263404Z",
     "iopub.status.busy": "2022-06-24T18:54:46.262248Z",
     "iopub.status.idle": "2022-06-24T18:54:46.292816Z",
     "shell.execute_reply": "2022-06-24T18:54:46.292067Z"
    },
    "papermill": {
     "duration": 0.069698,
     "end_time": "2022-06-24T18:54:46.294901",
     "exception": false,
     "start_time": "2022-06-24T18:54:46.225203",
     "status": "completed"
    },
    "tags": []
   },
   "outputs": [
    {
     "data": {
      "text/plain": [
       "array([2002, 2001, 1991, 1999, 2000, 1993, 1996, 1988, 2004, 1998, 1994,\n",
       "       2003, 1997, 1983, 1979, 1995, 1982, 1985, 1992, 1986, 1978, 1980,\n",
       "       1952, 1987, 1990, 1981, 1989, 1984, 0, 1968, 1961, 1958, 1974,\n",
       "       1976, 1971, 1977, 1975, 1965, 1941, 1970, 1962, 1973, 1972, 1960,\n",
       "       1966, 1920, 1956, 1959, 1953, 1951, 1942, 1963, 1964, 1969, 1954,\n",
       "       1950, 1967, 2005, 1957, 1940, 1937, 1955, 1946, 1936, 1930, 2011,\n",
       "       1925, 1948, 1943, 1947, 1945, 1923, 2020, 1939, 1926, 1938, 2030,\n",
       "       1911, 1904, 1949, 1932, 1928, 1929, 1927, 1931, 1914, 2050, 1934,\n",
       "       1910, 1933, 1902, 1924, 1921, 1900, 2038, 2026, 1944, 1917, 1901,\n",
       "       2010, 1908, 1906, 1935, 1806, 2021, '2000', '1995', '1999', '2004',\n",
       "       '2003', '1990', '1994', '1986', '1989', '2002', '1981', '1993',\n",
       "       '1983', '1982', '1976', '1991', '1977', '1998', '1992', '1996',\n",
       "       '0', '1997', '2001', '1974', '1968', '1987', '1984', '1988',\n",
       "       '1963', '1956', '1970', '1985', '1978', '1973', '1980', '1979',\n",
       "       '1975', '1969', '1961', '1965', '1939', '1958', '1950', '1953',\n",
       "       '1966', '1971', '1959', '1972', '1955', '1957', '1945', '1960',\n",
       "       '1967', '1932', '1924', '1964', '2012', '1911', '1927', '1948',\n",
       "       '1962', '2006', '1952', '1940', '1951', '1931', '1954', '2005',\n",
       "       '1930', '1941', '1944', 'DK Publishing Inc', '1943', '1938',\n",
       "       '1900', '1942', '1923', '1920', '1933', 'Gallimard', '1909',\n",
       "       '1946', '2008', '1378', '2030', '1936', '1947', '2011', '2020',\n",
       "       '1919', '1949', '1922', '1897', '2024', '1376', '1926', '2037'],\n",
       "      dtype=object)"
      ]
     },
     "execution_count": 17,
     "metadata": {},
     "output_type": "execute_result"
    }
   ],
   "source": [
    "# getting unique value from 'year_of_publication' feature\n",
    "book_data['year_of_publication'].unique()"
   ]
  },
  {
   "cell_type": "markdown",
   "id": "cd2cd1ae",
   "metadata": {
    "papermill": {
     "duration": 0.034991,
     "end_time": "2022-06-24T18:54:46.365175",
     "exception": false,
     "start_time": "2022-06-24T18:54:46.330184",
     "status": "completed"
    },
    "tags": []
   },
   "source": [
    "Let's check at the corresponding rows in the dataframe."
   ]
  },
  {
   "cell_type": "code",
   "execution_count": 18,
   "id": "a127c4bb",
   "metadata": {
    "execution": {
     "iopub.execute_input": "2022-06-24T18:54:46.438869Z",
     "iopub.status.busy": "2022-06-24T18:54:46.437928Z",
     "iopub.status.idle": "2022-06-24T18:54:46.482883Z",
     "shell.execute_reply": "2022-06-24T18:54:46.482149Z"
    },
    "papermill": {
     "duration": 0.083997,
     "end_time": "2022-06-24T18:54:46.484814",
     "exception": false,
     "start_time": "2022-06-24T18:54:46.400817",
     "status": "completed"
    },
    "tags": []
   },
   "outputs": [
    {
     "data": {
      "text/html": [
       "<div>\n",
       "<style scoped>\n",
       "    .dataframe tbody tr th:only-of-type {\n",
       "        vertical-align: middle;\n",
       "    }\n",
       "\n",
       "    .dataframe tbody tr th {\n",
       "        vertical-align: top;\n",
       "    }\n",
       "\n",
       "    .dataframe thead th {\n",
       "        text-align: right;\n",
       "    }\n",
       "</style>\n",
       "<table border=\"1\" class=\"dataframe\">\n",
       "  <thead>\n",
       "    <tr style=\"text-align: right;\">\n",
       "      <th></th>\n",
       "      <th>isbn</th>\n",
       "      <th>book_title</th>\n",
       "      <th>book_author</th>\n",
       "      <th>year_of_publication</th>\n",
       "      <th>publisher</th>\n",
       "    </tr>\n",
       "  </thead>\n",
       "  <tbody>\n",
       "    <tr>\n",
       "      <th>209538</th>\n",
       "      <td>078946697X</td>\n",
       "      <td>DK Readers: Creating the X-Men, How It All Began (Level 4: Proficient Readers)\\\";Michael Teitelbaum\"</td>\n",
       "      <td>2000</td>\n",
       "      <td>DK Publishing Inc</td>\n",
       "      <td>http://images.amazon.com/images/P/078946697X.01.THUMBZZZ.jpg</td>\n",
       "    </tr>\n",
       "    <tr>\n",
       "      <th>221678</th>\n",
       "      <td>0789466953</td>\n",
       "      <td>DK Readers: Creating the X-Men, How Comic Books Come to Life (Level 4: Proficient Readers)\\\";James Buckley\"</td>\n",
       "      <td>2000</td>\n",
       "      <td>DK Publishing Inc</td>\n",
       "      <td>http://images.amazon.com/images/P/0789466953.01.THUMBZZZ.jpg</td>\n",
       "    </tr>\n",
       "  </tbody>\n",
       "</table>\n",
       "</div>"
      ],
      "text/plain": [
       "              isbn  \\\n",
       "209538  078946697X   \n",
       "221678  0789466953   \n",
       "\n",
       "                                                                                                         book_title  \\\n",
       "209538  DK Readers: Creating the X-Men, How It All Began (Level 4: Proficient Readers)\\\";Michael Teitelbaum\"          \n",
       "221678  DK Readers: Creating the X-Men, How Comic Books Come to Life (Level 4: Proficient Readers)\\\";James Buckley\"   \n",
       "\n",
       "       book_author year_of_publication  \\\n",
       "209538  2000        DK Publishing Inc    \n",
       "221678  2000        DK Publishing Inc    \n",
       "\n",
       "                                                           publisher  \n",
       "209538  http://images.amazon.com/images/P/078946697X.01.THUMBZZZ.jpg  \n",
       "221678  http://images.amazon.com/images/P/0789466953.01.THUMBZZZ.jpg  "
      ]
     },
     "execution_count": 18,
     "metadata": {},
     "output_type": "execute_result"
    }
   ],
   "source": [
    "# Extracting and fixing mismatch in feature 'year_of_publication', 'publisher', 'book_author', 'book_title'\n",
    "book_data[book_data['year_of_publication'] == 'DK Publishing Inc'] "
   ]
  },
  {
   "cell_type": "code",
   "execution_count": 19,
   "id": "1d169913",
   "metadata": {
    "execution": {
     "iopub.execute_input": "2022-06-24T18:54:46.558443Z",
     "iopub.status.busy": "2022-06-24T18:54:46.557712Z",
     "iopub.status.idle": "2022-06-24T18:54:46.603136Z",
     "shell.execute_reply": "2022-06-24T18:54:46.602064Z"
    },
    "papermill": {
     "duration": 0.085076,
     "end_time": "2022-06-24T18:54:46.605651",
     "exception": false,
     "start_time": "2022-06-24T18:54:46.520575",
     "status": "completed"
    },
    "tags": []
   },
   "outputs": [
    {
     "data": {
      "text/html": [
       "<div>\n",
       "<style scoped>\n",
       "    .dataframe tbody tr th:only-of-type {\n",
       "        vertical-align: middle;\n",
       "    }\n",
       "\n",
       "    .dataframe tbody tr th {\n",
       "        vertical-align: top;\n",
       "    }\n",
       "\n",
       "    .dataframe thead th {\n",
       "        text-align: right;\n",
       "    }\n",
       "</style>\n",
       "<table border=\"1\" class=\"dataframe\">\n",
       "  <thead>\n",
       "    <tr style=\"text-align: right;\">\n",
       "      <th></th>\n",
       "      <th>isbn</th>\n",
       "      <th>book_title</th>\n",
       "      <th>book_author</th>\n",
       "      <th>year_of_publication</th>\n",
       "      <th>publisher</th>\n",
       "    </tr>\n",
       "  </thead>\n",
       "  <tbody>\n",
       "    <tr>\n",
       "      <th>220731</th>\n",
       "      <td>2070426769</td>\n",
       "      <td>Peuple du ciel, suivi de 'Les Bergers\\\";Jean-Marie Gustave Le ClÃ?Â©zio\"</td>\n",
       "      <td>2003</td>\n",
       "      <td>Gallimard</td>\n",
       "      <td>http://images.amazon.com/images/P/2070426769.01.THUMBZZZ.jpg</td>\n",
       "    </tr>\n",
       "  </tbody>\n",
       "</table>\n",
       "</div>"
      ],
      "text/plain": [
       "              isbn  \\\n",
       "220731  2070426769   \n",
       "\n",
       "                                                                      book_title  \\\n",
       "220731  Peuple du ciel, suivi de 'Les Bergers\\\";Jean-Marie Gustave Le ClÃ?Â©zio\"   \n",
       "\n",
       "       book_author year_of_publication  \\\n",
       "220731  2003        Gallimard            \n",
       "\n",
       "                                                           publisher  \n",
       "220731  http://images.amazon.com/images/P/2070426769.01.THUMBZZZ.jpg  "
      ]
     },
     "execution_count": 19,
     "metadata": {},
     "output_type": "execute_result"
    }
   ],
   "source": [
    "# Extracting and fixing mismatch in feature 'year_of_publication', 'publisher', 'book_author', 'book_title' \n",
    "book_data[book_data['year_of_publication'] == 'Gallimard']"
   ]
  },
  {
   "cell_type": "markdown",
   "id": "f9372be3",
   "metadata": {
    "papermill": {
     "duration": 0.035638,
     "end_time": "2022-06-24T18:54:46.677182",
     "exception": false,
     "start_time": "2022-06-24T18:54:46.641544",
     "status": "completed"
    },
    "tags": []
   },
   "source": [
    "There has to make some correction in three rows as you can see in above output. Let's fix it."
   ]
  },
  {
   "cell_type": "code",
   "execution_count": 20,
   "id": "322e8d23",
   "metadata": {
    "execution": {
     "iopub.execute_input": "2022-06-24T18:54:46.758060Z",
     "iopub.status.busy": "2022-06-24T18:54:46.756974Z",
     "iopub.status.idle": "2022-06-24T18:54:46.765713Z",
     "shell.execute_reply": "2022-06-24T18:54:46.764601Z"
    },
    "papermill": {
     "duration": 0.054631,
     "end_time": "2022-06-24T18:54:46.768094",
     "exception": false,
     "start_time": "2022-06-24T18:54:46.713463",
     "status": "completed"
    },
    "tags": []
   },
   "outputs": [
    {
     "data": {
      "text/plain": [
       "isbn                   0789466953                                                                                                 \n",
       "book_title             DK Readers: Creating the X-Men, How Comic Books Come to Life (Level 4: Proficient Readers)\\\";James Buckley\"\n",
       "book_author            2000                                                                                                       \n",
       "year_of_publication    DK Publishing Inc                                                                                          \n",
       "publisher              http://images.amazon.com/images/P/0789466953.01.THUMBZZZ.jpg                                               \n",
       "Name: 221678, dtype: object"
      ]
     },
     "execution_count": 20,
     "metadata": {},
     "output_type": "execute_result"
    }
   ],
   "source": [
    "book_data.loc[221678]\n"
   ]
  },
  {
   "cell_type": "code",
   "execution_count": 21,
   "id": "2284d20f",
   "metadata": {
    "execution": {
     "iopub.execute_input": "2022-06-24T18:54:46.842301Z",
     "iopub.status.busy": "2022-06-24T18:54:46.841262Z",
     "iopub.status.idle": "2022-06-24T18:54:46.850529Z",
     "shell.execute_reply": "2022-06-24T18:54:46.849301Z"
    },
    "papermill": {
     "duration": 0.048476,
     "end_time": "2022-06-24T18:54:46.852810",
     "exception": false,
     "start_time": "2022-06-24T18:54:46.804334",
     "status": "completed"
    },
    "tags": []
   },
   "outputs": [
    {
     "data": {
      "text/plain": [
       "isbn                   078946697X                                                                                          \n",
       "book_title             DK Readers: Creating the X-Men, How It All Began (Level 4: Proficient Readers)\\\";Michael Teitelbaum\"\n",
       "book_author            2000                                                                                                \n",
       "year_of_publication    DK Publishing Inc                                                                                   \n",
       "publisher              http://images.amazon.com/images/P/078946697X.01.THUMBZZZ.jpg                                        \n",
       "Name: 209538, dtype: object"
      ]
     },
     "execution_count": 21,
     "metadata": {},
     "output_type": "execute_result"
    }
   ],
   "source": [
    "book_data.loc[209538]"
   ]
  },
  {
   "cell_type": "code",
   "execution_count": 22,
   "id": "fdb177ed",
   "metadata": {
    "execution": {
     "iopub.execute_input": "2022-06-24T18:54:46.926886Z",
     "iopub.status.busy": "2022-06-24T18:54:46.926442Z",
     "iopub.status.idle": "2022-06-24T18:54:46.934809Z",
     "shell.execute_reply": "2022-06-24T18:54:46.933697Z"
    },
    "papermill": {
     "duration": 0.047999,
     "end_time": "2022-06-24T18:54:46.937034",
     "exception": false,
     "start_time": "2022-06-24T18:54:46.889035",
     "status": "completed"
    },
    "tags": []
   },
   "outputs": [
    {
     "data": {
      "text/plain": [
       "isbn                   2070426769                                                              \n",
       "book_title             Peuple du ciel, suivi de 'Les Bergers\\\";Jean-Marie Gustave Le ClÃ?Â©zio\"\n",
       "book_author            2003                                                                    \n",
       "year_of_publication    Gallimard                                                               \n",
       "publisher              http://images.amazon.com/images/P/2070426769.01.THUMBZZZ.jpg            \n",
       "Name: 220731, dtype: object"
      ]
     },
     "execution_count": 22,
     "metadata": {},
     "output_type": "execute_result"
    }
   ],
   "source": [
    "book_data.loc[220731]"
   ]
  },
  {
   "cell_type": "markdown",
   "id": "ad021c25",
   "metadata": {
    "papermill": {
     "duration": 0.036526,
     "end_time": "2022-06-24T18:54:47.010143",
     "exception": false,
     "start_time": "2022-06-24T18:54:46.973617",
     "status": "completed"
    },
    "tags": []
   },
   "source": [
    "Let's fix it and make it in correct format as per our dataset."
   ]
  },
  {
   "cell_type": "code",
   "execution_count": 23,
   "id": "c70d6a65",
   "metadata": {
    "execution": {
     "iopub.execute_input": "2022-06-24T18:54:47.085204Z",
     "iopub.status.busy": "2022-06-24T18:54:47.084253Z",
     "iopub.status.idle": "2022-06-24T18:54:47.089902Z",
     "shell.execute_reply": "2022-06-24T18:54:47.089228Z"
    },
    "papermill": {
     "duration": 0.044967,
     "end_time": "2022-06-24T18:54:47.091843",
     "exception": false,
     "start_time": "2022-06-24T18:54:47.046876",
     "status": "completed"
    },
    "tags": []
   },
   "outputs": [],
   "source": [
    "# function to fix mismatch data in feature 'book_title', 'book_author', ' year_of_publication', 'publisher'\n",
    "def replace_df_value(df, idx, col_name, val):\n",
    "    df.loc[idx, col_name] = val\n",
    "    return df"
   ]
  },
  {
   "cell_type": "code",
   "execution_count": 24,
   "id": "1a6889db",
   "metadata": {
    "execution": {
     "iopub.execute_input": "2022-06-24T18:54:47.166834Z",
     "iopub.status.busy": "2022-06-24T18:54:47.165956Z",
     "iopub.status.idle": "2022-06-24T18:54:47.189886Z",
     "shell.execute_reply": "2022-06-24T18:54:47.188794Z"
    },
    "papermill": {
     "duration": 0.064374,
     "end_time": "2022-06-24T18:54:47.192061",
     "exception": false,
     "start_time": "2022-06-24T18:54:47.127687",
     "status": "completed"
    },
    "tags": []
   },
   "outputs": [
    {
     "data": {
      "text/html": [
       "<div>\n",
       "<style scoped>\n",
       "    .dataframe tbody tr th:only-of-type {\n",
       "        vertical-align: middle;\n",
       "    }\n",
       "\n",
       "    .dataframe tbody tr th {\n",
       "        vertical-align: top;\n",
       "    }\n",
       "\n",
       "    .dataframe thead th {\n",
       "        text-align: right;\n",
       "    }\n",
       "</style>\n",
       "<table border=\"1\" class=\"dataframe\">\n",
       "  <thead>\n",
       "    <tr style=\"text-align: right;\">\n",
       "      <th></th>\n",
       "      <th>isbn</th>\n",
       "      <th>book_title</th>\n",
       "      <th>book_author</th>\n",
       "      <th>year_of_publication</th>\n",
       "      <th>publisher</th>\n",
       "    </tr>\n",
       "  </thead>\n",
       "  <tbody>\n",
       "    <tr>\n",
       "      <th>0</th>\n",
       "      <td>0195153448</td>\n",
       "      <td>Classical Mythology</td>\n",
       "      <td>Mark P. O. Morford</td>\n",
       "      <td>2002</td>\n",
       "      <td>Oxford University Press</td>\n",
       "    </tr>\n",
       "    <tr>\n",
       "      <th>1</th>\n",
       "      <td>0002005018</td>\n",
       "      <td>Clara Callan</td>\n",
       "      <td>Richard Bruce Wright</td>\n",
       "      <td>2001</td>\n",
       "      <td>HarperFlamingo Canada</td>\n",
       "    </tr>\n",
       "    <tr>\n",
       "      <th>2</th>\n",
       "      <td>0060973129</td>\n",
       "      <td>Decision in Normandy</td>\n",
       "      <td>Carlo D'Este</td>\n",
       "      <td>1991</td>\n",
       "      <td>HarperPerennial</td>\n",
       "    </tr>\n",
       "    <tr>\n",
       "      <th>3</th>\n",
       "      <td>0374157065</td>\n",
       "      <td>Flu: The Story of the Great Influenza Pandemic of 1918 and the Search for the Virus That Caused It</td>\n",
       "      <td>Gina Bari Kolata</td>\n",
       "      <td>1999</td>\n",
       "      <td>Farrar Straus Giroux</td>\n",
       "    </tr>\n",
       "    <tr>\n",
       "      <th>4</th>\n",
       "      <td>0393045218</td>\n",
       "      <td>The Mummies of Urumchi</td>\n",
       "      <td>E. J. W. Barber</td>\n",
       "      <td>1999</td>\n",
       "      <td>W. W. Norton &amp;amp; Company</td>\n",
       "    </tr>\n",
       "    <tr>\n",
       "      <th>...</th>\n",
       "      <td>...</td>\n",
       "      <td>...</td>\n",
       "      <td>...</td>\n",
       "      <td>...</td>\n",
       "      <td>...</td>\n",
       "    </tr>\n",
       "    <tr>\n",
       "      <th>271355</th>\n",
       "      <td>0440400988</td>\n",
       "      <td>There's a Bat in Bunk Five</td>\n",
       "      <td>Paula Danziger</td>\n",
       "      <td>1988</td>\n",
       "      <td>Random House Childrens Pub (Mm)</td>\n",
       "    </tr>\n",
       "    <tr>\n",
       "      <th>271356</th>\n",
       "      <td>0525447644</td>\n",
       "      <td>From One to One Hundred</td>\n",
       "      <td>Teri Sloat</td>\n",
       "      <td>1991</td>\n",
       "      <td>Dutton Books</td>\n",
       "    </tr>\n",
       "    <tr>\n",
       "      <th>271357</th>\n",
       "      <td>006008667X</td>\n",
       "      <td>Lily Dale : The True Story of the Town that Talks to the Dead</td>\n",
       "      <td>Christine Wicker</td>\n",
       "      <td>2004</td>\n",
       "      <td>HarperSanFrancisco</td>\n",
       "    </tr>\n",
       "    <tr>\n",
       "      <th>271358</th>\n",
       "      <td>0192126040</td>\n",
       "      <td>Republic (World's Classics)</td>\n",
       "      <td>Plato</td>\n",
       "      <td>1996</td>\n",
       "      <td>Oxford University Press</td>\n",
       "    </tr>\n",
       "    <tr>\n",
       "      <th>271359</th>\n",
       "      <td>0767409752</td>\n",
       "      <td>A Guided Tour of Rene Descartes' Meditations on First Philosophy with Complete Translations of the Meditations by Ronald Rubin</td>\n",
       "      <td>Christopher  Biffle</td>\n",
       "      <td>2000</td>\n",
       "      <td>McGraw-Hill Humanities/Social Sciences/Languages</td>\n",
       "    </tr>\n",
       "  </tbody>\n",
       "</table>\n",
       "<p>271360 rows × 5 columns</p>\n",
       "</div>"
      ],
      "text/plain": [
       "              isbn  \\\n",
       "0       0195153448   \n",
       "1       0002005018   \n",
       "2       0060973129   \n",
       "3       0374157065   \n",
       "4       0393045218   \n",
       "...            ...   \n",
       "271355  0440400988   \n",
       "271356  0525447644   \n",
       "271357  006008667X   \n",
       "271358  0192126040   \n",
       "271359  0767409752   \n",
       "\n",
       "                                                                                                                            book_title  \\\n",
       "0       Classical Mythology                                                                                                              \n",
       "1       Clara Callan                                                                                                                     \n",
       "2       Decision in Normandy                                                                                                             \n",
       "3       Flu: The Story of the Great Influenza Pandemic of 1918 and the Search for the Virus That Caused It                               \n",
       "4       The Mummies of Urumchi                                                                                                           \n",
       "...                        ...                                                                                                           \n",
       "271355  There's a Bat in Bunk Five                                                                                                       \n",
       "271356  From One to One Hundred                                                                                                          \n",
       "271357  Lily Dale : The True Story of the Town that Talks to the Dead                                                                    \n",
       "271358  Republic (World's Classics)                                                                                                      \n",
       "271359  A Guided Tour of Rene Descartes' Meditations on First Philosophy with Complete Translations of the Meditations by Ronald Rubin   \n",
       "\n",
       "                 book_author year_of_publication  \\\n",
       "0       Mark P. O. Morford    2002                 \n",
       "1       Richard Bruce Wright  2001                 \n",
       "2       Carlo D'Este          1991                 \n",
       "3       Gina Bari Kolata      1999                 \n",
       "4       E. J. W. Barber       1999                 \n",
       "...                 ...        ...                 \n",
       "271355  Paula Danziger        1988                 \n",
       "271356  Teri Sloat            1991                 \n",
       "271357  Christine Wicker      2004                 \n",
       "271358  Plato                 1996                 \n",
       "271359  Christopher  Biffle   2000                 \n",
       "\n",
       "                                               publisher  \n",
       "0       Oxford University Press                           \n",
       "1       HarperFlamingo Canada                             \n",
       "2       HarperPerennial                                   \n",
       "3       Farrar Straus Giroux                              \n",
       "4       W. W. Norton &amp; Company                        \n",
       "...                            ...                        \n",
       "271355  Random House Childrens Pub (Mm)                   \n",
       "271356  Dutton Books                                      \n",
       "271357  HarperSanFrancisco                                \n",
       "271358  Oxford University Press                           \n",
       "271359  McGraw-Hill Humanities/Social Sciences/Languages  \n",
       "\n",
       "[271360 rows x 5 columns]"
      ]
     },
     "execution_count": 24,
     "metadata": {},
     "output_type": "execute_result"
    }
   ],
   "source": [
    "replace_df_value(book_data, 209538, 'book_title', 'DK Readers: Creating the X-Men, How It All Began (Level 4: Proficient Readers)')\n",
    "replace_df_value(book_data, 209538, 'book_author', 'Michael Teitelbaum')\n",
    "replace_df_value(book_data, 209538, 'year_of_publication', 2000)\n",
    "replace_df_value(book_data, 209538, 'publisher', 'DK Publishing Inc')\n",
    "\n",
    "replace_df_value(book_data, 221678, 'book_title', 'DK Readers: Creating the X-Men, How Comic Books Come to Life (Level 4: Proficient Readers)')\n",
    "replace_df_value(book_data, 221678, 'book_author', 'James Buckley')\n",
    "replace_df_value(book_data, 221678, 'year_of_publication', 2000)\n",
    "replace_df_value(book_data, 221678, 'publisher', 'DK Publishing Inc')\n",
    "\n",
    "replace_df_value(book_data, 220731,'book_title', \"Peuple du ciel, suivi de 'Les Bergers\")\n",
    "replace_df_value(book_data, 220731, 'book_author', 'Jean-Marie Gustave Le ClÃ?Â©zio')\n",
    "replace_df_value(book_data, 220731, 'year_of_publication', 2003)\n",
    "replace_df_value(book_data, 220731, 'publisher', 'Gallimard')"
   ]
  },
  {
   "cell_type": "code",
   "execution_count": 25,
   "id": "e7862095",
   "metadata": {
    "execution": {
     "iopub.execute_input": "2022-06-24T18:54:47.267692Z",
     "iopub.status.busy": "2022-06-24T18:54:47.266447Z",
     "iopub.status.idle": "2022-06-24T18:54:47.275178Z",
     "shell.execute_reply": "2022-06-24T18:54:47.274339Z"
    },
    "papermill": {
     "duration": 0.048131,
     "end_time": "2022-06-24T18:54:47.277120",
     "exception": false,
     "start_time": "2022-06-24T18:54:47.228989",
     "status": "completed"
    },
    "tags": []
   },
   "outputs": [
    {
     "data": {
      "text/plain": [
       "isbn                   078946697X                                                                    \n",
       "book_title             DK Readers: Creating the X-Men, How It All Began (Level 4: Proficient Readers)\n",
       "book_author            Michael Teitelbaum                                                            \n",
       "year_of_publication    2000                                                                          \n",
       "publisher              DK Publishing Inc                                                             \n",
       "Name: 209538, dtype: object"
      ]
     },
     "execution_count": 25,
     "metadata": {},
     "output_type": "execute_result"
    }
   ],
   "source": [
    "book_data.loc[209538]\n"
   ]
  },
  {
   "cell_type": "code",
   "execution_count": 26,
   "id": "00919585",
   "metadata": {
    "execution": {
     "iopub.execute_input": "2022-06-24T18:54:47.353135Z",
     "iopub.status.busy": "2022-06-24T18:54:47.352003Z",
     "iopub.status.idle": "2022-06-24T18:54:47.360746Z",
     "shell.execute_reply": "2022-06-24T18:54:47.359774Z"
    },
    "papermill": {
     "duration": 0.048739,
     "end_time": "2022-06-24T18:54:47.362732",
     "exception": false,
     "start_time": "2022-06-24T18:54:47.313993",
     "status": "completed"
    },
    "tags": []
   },
   "outputs": [
    {
     "data": {
      "text/plain": [
       "isbn                   0789466953                                                                                \n",
       "book_title             DK Readers: Creating the X-Men, How Comic Books Come to Life (Level 4: Proficient Readers)\n",
       "book_author            James Buckley                                                                             \n",
       "year_of_publication    2000                                                                                      \n",
       "publisher              DK Publishing Inc                                                                         \n",
       "Name: 221678, dtype: object"
      ]
     },
     "execution_count": 26,
     "metadata": {},
     "output_type": "execute_result"
    }
   ],
   "source": [
    "book_data.loc[221678]"
   ]
  },
  {
   "cell_type": "code",
   "execution_count": 27,
   "id": "e627d9de",
   "metadata": {
    "execution": {
     "iopub.execute_input": "2022-06-24T18:54:47.439125Z",
     "iopub.status.busy": "2022-06-24T18:54:47.438357Z",
     "iopub.status.idle": "2022-06-24T18:54:47.447050Z",
     "shell.execute_reply": "2022-06-24T18:54:47.445986Z"
    },
    "papermill": {
     "duration": 0.049481,
     "end_time": "2022-06-24T18:54:47.449051",
     "exception": false,
     "start_time": "2022-06-24T18:54:47.399570",
     "status": "completed"
    },
    "tags": []
   },
   "outputs": [
    {
     "data": {
      "text/plain": [
       "isbn                   2070426769                           \n",
       "book_title             Peuple du ciel, suivi de 'Les Bergers\n",
       "book_author            Jean-Marie Gustave Le ClÃ?Â©zio      \n",
       "year_of_publication    2003                                 \n",
       "publisher              Gallimard                            \n",
       "Name: 220731, dtype: object"
      ]
     },
     "execution_count": 27,
     "metadata": {},
     "output_type": "execute_result"
    }
   ],
   "source": [
    "book_data.loc[220731]"
   ]
  },
  {
   "cell_type": "markdown",
   "id": "8aa5caa0",
   "metadata": {
    "papermill": {
     "duration": 0.037071,
     "end_time": "2022-06-24T18:54:47.523170",
     "exception": false,
     "start_time": "2022-06-24T18:54:47.486099",
     "status": "completed"
    },
    "tags": []
   },
   "source": [
    "Now it is been fixed. We can view perfect matching for their corresponding features."
   ]
  },
  {
   "cell_type": "markdown",
   "id": "b47a788a",
   "metadata": {
    "papermill": {
     "duration": 0.036526,
     "end_time": "2022-06-24T18:54:47.597252",
     "exception": false,
     "start_time": "2022-06-24T18:54:47.560726",
     "status": "completed"
    },
    "tags": []
   },
   "source": [
    "We've seen there are two missing values in the 'publisher' column. Let's take care of that. As we have seen"
   ]
  },
  {
   "cell_type": "code",
   "execution_count": 28,
   "id": "bf26ae62",
   "metadata": {
    "execution": {
     "iopub.execute_input": "2022-06-24T18:54:47.672571Z",
     "iopub.status.busy": "2022-06-24T18:54:47.671824Z",
     "iopub.status.idle": "2022-06-24T18:54:47.708909Z",
     "shell.execute_reply": "2022-06-24T18:54:47.707827Z"
    },
    "papermill": {
     "duration": 0.07696,
     "end_time": "2022-06-24T18:54:47.710985",
     "exception": false,
     "start_time": "2022-06-24T18:54:47.634025",
     "status": "completed"
    },
    "tags": []
   },
   "outputs": [
    {
     "data": {
      "text/html": [
       "<div>\n",
       "<style scoped>\n",
       "    .dataframe tbody tr th:only-of-type {\n",
       "        vertical-align: middle;\n",
       "    }\n",
       "\n",
       "    .dataframe tbody tr th {\n",
       "        vertical-align: top;\n",
       "    }\n",
       "\n",
       "    .dataframe thead th {\n",
       "        text-align: right;\n",
       "    }\n",
       "</style>\n",
       "<table border=\"1\" class=\"dataframe\">\n",
       "  <thead>\n",
       "    <tr style=\"text-align: right;\">\n",
       "      <th></th>\n",
       "      <th>isbn</th>\n",
       "      <th>book_title</th>\n",
       "      <th>book_author</th>\n",
       "      <th>year_of_publication</th>\n",
       "      <th>publisher</th>\n",
       "    </tr>\n",
       "  </thead>\n",
       "  <tbody>\n",
       "    <tr>\n",
       "      <th>128890</th>\n",
       "      <td>193169656X</td>\n",
       "      <td>Tyrant Moon</td>\n",
       "      <td>Elaine Corvidae</td>\n",
       "      <td>2002</td>\n",
       "      <td>NaN</td>\n",
       "    </tr>\n",
       "    <tr>\n",
       "      <th>129037</th>\n",
       "      <td>1931696993</td>\n",
       "      <td>Finders Keepers</td>\n",
       "      <td>Linnea Sinclair</td>\n",
       "      <td>2001</td>\n",
       "      <td>NaN</td>\n",
       "    </tr>\n",
       "  </tbody>\n",
       "</table>\n",
       "</div>"
      ],
      "text/plain": [
       "              isbn       book_title      book_author year_of_publication  \\\n",
       "128890  193169656X  Tyrant Moon      Elaine Corvidae  2002                 \n",
       "129037  1931696993  Finders Keepers  Linnea Sinclair  2001                 \n",
       "\n",
       "       publisher  \n",
       "128890  NaN       \n",
       "129037  NaN       "
      ]
     },
     "execution_count": 28,
     "metadata": {},
     "output_type": "execute_result"
    }
   ],
   "source": [
    "book_data.loc[(book_data['publisher'].isnull()),: ]"
   ]
  },
  {
   "cell_type": "code",
   "execution_count": 29,
   "id": "2be17452",
   "metadata": {
    "execution": {
     "iopub.execute_input": "2022-06-24T18:54:47.786381Z",
     "iopub.status.busy": "2022-06-24T18:54:47.785974Z",
     "iopub.status.idle": "2022-06-24T18:54:47.864711Z",
     "shell.execute_reply": "2022-06-24T18:54:47.863878Z"
    },
    "papermill": {
     "duration": 0.119475,
     "end_time": "2022-06-24T18:54:47.867077",
     "exception": false,
     "start_time": "2022-06-24T18:54:47.747602",
     "status": "completed"
    },
    "tags": []
   },
   "outputs": [],
   "source": [
    "# replacing 'Nan' with 'No Mention'\n",
    "book_data.loc[(book_data['isbn'] == '193169656X'),'publisher'] = 'No Mention'\n",
    "book_data.loc[(book_data['isbn'] == '1931696993'),'publisher'] = 'No Mention'"
   ]
  },
  {
   "cell_type": "code",
   "execution_count": 30,
   "id": "a4eaf3cb",
   "metadata": {
    "execution": {
     "iopub.execute_input": "2022-06-24T18:54:47.942163Z",
     "iopub.status.busy": "2022-06-24T18:54:47.941455Z",
     "iopub.status.idle": "2022-06-24T18:54:47.949624Z",
     "shell.execute_reply": "2022-06-24T18:54:47.948899Z"
    },
    "papermill": {
     "duration": 0.047844,
     "end_time": "2022-06-24T18:54:47.951771",
     "exception": false,
     "start_time": "2022-06-24T18:54:47.903927",
     "status": "completed"
    },
    "tags": []
   },
   "outputs": [],
   "source": [
    "df = pd.DataFrame(book_data)\n",
    "cols = [4]\n",
    "df = df[df.columns[cols]]"
   ]
  },
  {
   "cell_type": "code",
   "execution_count": 31,
   "id": "b2236107",
   "metadata": {
    "execution": {
     "iopub.execute_input": "2022-06-24T18:54:48.027603Z",
     "iopub.status.busy": "2022-06-24T18:54:48.026968Z",
     "iopub.status.idle": "2022-06-24T18:54:48.036652Z",
     "shell.execute_reply": "2022-06-24T18:54:48.035594Z"
    },
    "papermill": {
     "duration": 0.050605,
     "end_time": "2022-06-24T18:54:48.039145",
     "exception": false,
     "start_time": "2022-06-24T18:54:47.988540",
     "status": "completed"
    },
    "tags": []
   },
   "outputs": [
    {
     "data": {
      "text/html": [
       "<div>\n",
       "<style scoped>\n",
       "    .dataframe tbody tr th:only-of-type {\n",
       "        vertical-align: middle;\n",
       "    }\n",
       "\n",
       "    .dataframe tbody tr th {\n",
       "        vertical-align: top;\n",
       "    }\n",
       "\n",
       "    .dataframe thead th {\n",
       "        text-align: right;\n",
       "    }\n",
       "</style>\n",
       "<table border=\"1\" class=\"dataframe\">\n",
       "  <thead>\n",
       "    <tr style=\"text-align: right;\">\n",
       "      <th></th>\n",
       "      <th>publisher</th>\n",
       "    </tr>\n",
       "  </thead>\n",
       "  <tbody>\n",
       "    <tr>\n",
       "      <th>0</th>\n",
       "      <td>Oxford University Press</td>\n",
       "    </tr>\n",
       "    <tr>\n",
       "      <th>1</th>\n",
       "      <td>HarperFlamingo Canada</td>\n",
       "    </tr>\n",
       "    <tr>\n",
       "      <th>2</th>\n",
       "      <td>HarperPerennial</td>\n",
       "    </tr>\n",
       "    <tr>\n",
       "      <th>3</th>\n",
       "      <td>Farrar Straus Giroux</td>\n",
       "    </tr>\n",
       "    <tr>\n",
       "      <th>4</th>\n",
       "      <td>W. W. Norton &amp;amp; Company</td>\n",
       "    </tr>\n",
       "  </tbody>\n",
       "</table>\n",
       "</div>"
      ],
      "text/plain": [
       "                    publisher\n",
       "0  Oxford University Press   \n",
       "1  HarperFlamingo Canada     \n",
       "2  HarperPerennial           \n",
       "3  Farrar Straus Giroux      \n",
       "4  W. W. Norton &amp; Company"
      ]
     },
     "execution_count": 31,
     "metadata": {},
     "output_type": "execute_result"
    }
   ],
   "source": [
    "pd.set_option('display.max_columns', None)  \n",
    "df.head(5)"
   ]
  },
  {
   "cell_type": "code",
   "execution_count": 32,
   "id": "98688061",
   "metadata": {
    "execution": {
     "iopub.execute_input": "2022-06-24T18:54:48.117023Z",
     "iopub.status.busy": "2022-06-24T18:54:48.116277Z",
     "iopub.status.idle": "2022-06-24T18:54:48.164342Z",
     "shell.execute_reply": "2022-06-24T18:54:48.163279Z"
    },
    "papermill": {
     "duration": 0.089914,
     "end_time": "2022-06-24T18:54:48.166845",
     "exception": false,
     "start_time": "2022-06-24T18:54:48.076931",
     "status": "completed"
    },
    "tags": []
   },
   "outputs": [
    {
     "data": {
      "text/html": [
       "<div>\n",
       "<style scoped>\n",
       "    .dataframe tbody tr th:only-of-type {\n",
       "        vertical-align: middle;\n",
       "    }\n",
       "\n",
       "    .dataframe tbody tr th {\n",
       "        vertical-align: top;\n",
       "    }\n",
       "\n",
       "    .dataframe thead th {\n",
       "        text-align: right;\n",
       "    }\n",
       "</style>\n",
       "<table border=\"1\" class=\"dataframe\">\n",
       "  <thead>\n",
       "    <tr style=\"text-align: right;\">\n",
       "      <th></th>\n",
       "      <th>isbn</th>\n",
       "      <th>book_title</th>\n",
       "      <th>book_author</th>\n",
       "      <th>year_of_publication</th>\n",
       "      <th>publisher</th>\n",
       "    </tr>\n",
       "  </thead>\n",
       "  <tbody>\n",
       "    <tr>\n",
       "      <th>128890</th>\n",
       "      <td>193169656X</td>\n",
       "      <td>Tyrant Moon</td>\n",
       "      <td>Elaine Corvidae</td>\n",
       "      <td>2002</td>\n",
       "      <td>No Mention</td>\n",
       "    </tr>\n",
       "    <tr>\n",
       "      <th>129037</th>\n",
       "      <td>1931696993</td>\n",
       "      <td>Finders Keepers</td>\n",
       "      <td>Linnea Sinclair</td>\n",
       "      <td>2001</td>\n",
       "      <td>No Mention</td>\n",
       "    </tr>\n",
       "  </tbody>\n",
       "</table>\n",
       "</div>"
      ],
      "text/plain": [
       "              isbn       book_title      book_author year_of_publication  \\\n",
       "128890  193169656X  Tyrant Moon      Elaine Corvidae  2002                 \n",
       "129037  1931696993  Finders Keepers  Linnea Sinclair  2001                 \n",
       "\n",
       "         publisher  \n",
       "128890  No Mention  \n",
       "129037  No Mention  "
      ]
     },
     "execution_count": 32,
     "metadata": {},
     "output_type": "execute_result"
    }
   ],
   "source": [
    "book_data[book_data['publisher'] == 'No Mention']"
   ]
  },
  {
   "cell_type": "markdown",
   "id": "22ed2a03",
   "metadata": {
    "papermill": {
     "duration": 0.040036,
     "end_time": "2022-06-24T18:54:48.246501",
     "exception": false,
     "start_time": "2022-06-24T18:54:48.206465",
     "status": "completed"
    },
    "tags": []
   },
   "source": [
    "So we've change the publisher's name from 'NaN' to 'No Mention'."
   ]
  },
  {
   "cell_type": "markdown",
   "id": "a512c37b",
   "metadata": {
    "papermill": {
     "duration": 0.042695,
     "end_time": "2022-06-24T18:54:48.342951",
     "exception": false,
     "start_time": "2022-06-24T18:54:48.300256",
     "status": "completed"
    },
    "tags": []
   },
   "source": [
    "## Let's see now user_data dataset"
   ]
  },
  {
   "cell_type": "code",
   "execution_count": 33,
   "id": "d8cb8409",
   "metadata": {
    "execution": {
     "iopub.execute_input": "2022-06-24T18:54:48.429675Z",
     "iopub.status.busy": "2022-06-24T18:54:48.428775Z",
     "iopub.status.idle": "2022-06-24T18:54:48.435398Z",
     "shell.execute_reply": "2022-06-24T18:54:48.434099Z"
    },
    "papermill": {
     "duration": 0.051269,
     "end_time": "2022-06-24T18:54:48.437885",
     "exception": false,
     "start_time": "2022-06-24T18:54:48.386616",
     "status": "completed"
    },
    "tags": []
   },
   "outputs": [
    {
     "name": "stdout",
     "output_type": "stream",
     "text": [
      "(278858, 3)\n"
     ]
    }
   ],
   "source": [
    "# users_data size\n",
    "print(users_data.shape)"
   ]
  },
  {
   "cell_type": "code",
   "execution_count": 34,
   "id": "49845c4e",
   "metadata": {
    "execution": {
     "iopub.execute_input": "2022-06-24T18:54:48.536290Z",
     "iopub.status.busy": "2022-06-24T18:54:48.535342Z",
     "iopub.status.idle": "2022-06-24T18:54:48.552356Z",
     "shell.execute_reply": "2022-06-24T18:54:48.551272Z"
    },
    "papermill": {
     "duration": 0.073718,
     "end_time": "2022-06-24T18:54:48.554482",
     "exception": false,
     "start_time": "2022-06-24T18:54:48.480764",
     "status": "completed"
    },
    "tags": []
   },
   "outputs": [
    {
     "data": {
      "text/plain": [
       "array([ nan,  18.,  17.,  61.,  26.,  14.,  25.,  19.,  46.,  55.,  32.,\n",
       "        24.,  20.,  34.,  23.,  51.,  31.,  21.,  44.,  30.,  57.,  43.,\n",
       "        37.,  41.,  54.,  42.,  50.,  39.,  53.,  47.,  36.,  28.,  35.,\n",
       "        13.,  58.,  49.,  38.,  45.,  62.,  63.,  27.,  33.,  29.,  66.,\n",
       "        40.,  15.,  60.,   0.,  79.,  22.,  16.,  65.,  59.,  48.,  72.,\n",
       "        56.,  67.,   1.,  80.,  52.,  69.,  71.,  73.,  78.,   9.,  64.,\n",
       "       103., 104.,  12.,  74.,  75., 231.,   3.,  76.,  83.,  68., 119.,\n",
       "        11.,  77.,   2.,  70.,  93.,   8.,   7.,   4.,  81., 114., 230.,\n",
       "       239.,  10.,   5., 148., 151.,   6., 101., 201.,  96.,  84.,  82.,\n",
       "        90., 123., 244., 133.,  91., 128.,  94.,  85., 141., 110.,  97.,\n",
       "       219.,  86., 124.,  92., 175., 172., 209., 212., 237.,  87., 162.,\n",
       "       100., 156., 136.,  95.,  89., 106.,  99., 108., 210.,  88., 199.,\n",
       "       147., 168., 132., 159., 186., 152., 102., 116., 200., 115., 226.,\n",
       "       137., 207., 229., 138., 109., 105., 228., 183., 204.,  98., 223.,\n",
       "       113., 208., 107., 157., 111., 146., 118., 220., 143., 140., 189.,\n",
       "       127.])"
      ]
     },
     "execution_count": 34,
     "metadata": {},
     "output_type": "execute_result"
    }
   ],
   "source": [
    "# unique value in age\n",
    "users_data['age'].unique()"
   ]
  },
  {
   "cell_type": "markdown",
   "id": "fac881df",
   "metadata": {
    "papermill": {
     "duration": 0.047375,
     "end_time": "2022-06-24T18:54:48.640604",
     "exception": false,
     "start_time": "2022-06-24T18:54:48.593229",
     "status": "completed"
    },
    "tags": []
   },
   "source": [
    "There is NaN value in age. We can replace NaN with mean of 'age'. "
   ]
  },
  {
   "cell_type": "code",
   "execution_count": 35,
   "id": "900b42fb",
   "metadata": {
    "execution": {
     "iopub.execute_input": "2022-06-24T18:54:48.787455Z",
     "iopub.status.busy": "2022-06-24T18:54:48.786514Z",
     "iopub.status.idle": "2022-06-24T18:54:48.797926Z",
     "shell.execute_reply": "2022-06-24T18:54:48.796925Z"
    },
    "papermill": {
     "duration": 0.117874,
     "end_time": "2022-06-24T18:54:48.800516",
     "exception": false,
     "start_time": "2022-06-24T18:54:48.682642",
     "status": "completed"
    },
    "tags": []
   },
   "outputs": [],
   "source": [
    "# replacing nan with average of 'age'\n",
    "users_data['age'].fillna((users_data['age'].mean()), inplace=True)"
   ]
  },
  {
   "cell_type": "code",
   "execution_count": 36,
   "id": "f5cba7c8",
   "metadata": {
    "execution": {
     "iopub.execute_input": "2022-06-24T18:54:48.878459Z",
     "iopub.status.busy": "2022-06-24T18:54:48.878030Z",
     "iopub.status.idle": "2022-06-24T18:54:48.890197Z",
     "shell.execute_reply": "2022-06-24T18:54:48.889172Z"
    },
    "papermill": {
     "duration": 0.053559,
     "end_time": "2022-06-24T18:54:48.892388",
     "exception": false,
     "start_time": "2022-06-24T18:54:48.838829",
     "status": "completed"
    },
    "tags": []
   },
   "outputs": [
    {
     "data": {
      "text/plain": [
       "array([ 34.7514337,  18.       ,  17.       ,  61.       ,  26.       ,\n",
       "        14.       ,  25.       ,  19.       ,  46.       ,  55.       ,\n",
       "        32.       ,  24.       ,  20.       ,  34.       ,  23.       ,\n",
       "        51.       ,  31.       ,  21.       ,  44.       ,  30.       ,\n",
       "        57.       ,  43.       ,  37.       ,  41.       ,  54.       ,\n",
       "        42.       ,  50.       ,  39.       ,  53.       ,  47.       ,\n",
       "        36.       ,  28.       ,  35.       ,  13.       ,  58.       ,\n",
       "        49.       ,  38.       ,  45.       ,  62.       ,  63.       ,\n",
       "        27.       ,  33.       ,  29.       ,  66.       ,  40.       ,\n",
       "        15.       ,  60.       ,   0.       ,  79.       ,  22.       ,\n",
       "        16.       ,  65.       ,  59.       ,  48.       ,  72.       ,\n",
       "        56.       ,  67.       ,   1.       ,  80.       ,  52.       ,\n",
       "        69.       ,  71.       ,  73.       ,  78.       ,   9.       ,\n",
       "        64.       , 103.       , 104.       ,  12.       ,  74.       ,\n",
       "        75.       , 231.       ,   3.       ,  76.       ,  83.       ,\n",
       "        68.       , 119.       ,  11.       ,  77.       ,   2.       ,\n",
       "        70.       ,  93.       ,   8.       ,   7.       ,   4.       ,\n",
       "        81.       , 114.       , 230.       , 239.       ,  10.       ,\n",
       "         5.       , 148.       , 151.       ,   6.       , 101.       ,\n",
       "       201.       ,  96.       ,  84.       ,  82.       ,  90.       ,\n",
       "       123.       , 244.       , 133.       ,  91.       , 128.       ,\n",
       "        94.       ,  85.       , 141.       , 110.       ,  97.       ,\n",
       "       219.       ,  86.       , 124.       ,  92.       , 175.       ,\n",
       "       172.       , 209.       , 212.       , 237.       ,  87.       ,\n",
       "       162.       , 100.       , 156.       , 136.       ,  95.       ,\n",
       "        89.       , 106.       ,  99.       , 108.       , 210.       ,\n",
       "        88.       , 199.       , 147.       , 168.       , 132.       ,\n",
       "       159.       , 186.       , 152.       , 102.       , 116.       ,\n",
       "       200.       , 115.       , 226.       , 137.       , 207.       ,\n",
       "       229.       , 138.       , 109.       , 105.       , 228.       ,\n",
       "       183.       , 204.       ,  98.       , 223.       , 113.       ,\n",
       "       208.       , 107.       , 157.       , 111.       , 146.       ,\n",
       "       118.       , 220.       , 143.       , 140.       , 189.       ,\n",
       "       127.       ])"
      ]
     },
     "execution_count": 36,
     "metadata": {},
     "output_type": "execute_result"
    }
   ],
   "source": [
    "users_data['age'].unique()"
   ]
  },
  {
   "cell_type": "code",
   "execution_count": 37,
   "id": "fcf308bb",
   "metadata": {
    "execution": {
     "iopub.execute_input": "2022-06-24T18:54:48.973694Z",
     "iopub.status.busy": "2022-06-24T18:54:48.972766Z",
     "iopub.status.idle": "2022-06-24T18:54:48.995541Z",
     "shell.execute_reply": "2022-06-24T18:54:48.994367Z"
    },
    "papermill": {
     "duration": 0.066671,
     "end_time": "2022-06-24T18:54:48.998053",
     "exception": false,
     "start_time": "2022-06-24T18:54:48.931382",
     "status": "completed"
    },
    "tags": []
   },
   "outputs": [],
   "source": [
    "# retrieving age data between 5 to 90\n",
    "users_data.loc[(users_data['age'] > 90) | (users_data['age'] < 5)] = np.nan"
   ]
  },
  {
   "cell_type": "code",
   "execution_count": 38,
   "id": "58e7f9fc",
   "metadata": {
    "execution": {
     "iopub.execute_input": "2022-06-24T18:54:49.080030Z",
     "iopub.status.busy": "2022-06-24T18:54:49.079090Z",
     "iopub.status.idle": "2022-06-24T18:54:49.088358Z",
     "shell.execute_reply": "2022-06-24T18:54:49.087394Z"
    },
    "papermill": {
     "duration": 0.052079,
     "end_time": "2022-06-24T18:54:49.090596",
     "exception": false,
     "start_time": "2022-06-24T18:54:49.038517",
     "status": "completed"
    },
    "tags": []
   },
   "outputs": [],
   "source": [
    "users_data['age'].fillna((users_data['age'].mean()), inplace=True)"
   ]
  },
  {
   "cell_type": "code",
   "execution_count": 39,
   "id": "be695067",
   "metadata": {
    "execution": {
     "iopub.execute_input": "2022-06-24T18:54:49.172268Z",
     "iopub.status.busy": "2022-06-24T18:54:49.171590Z",
     "iopub.status.idle": "2022-06-24T18:54:49.182423Z",
     "shell.execute_reply": "2022-06-24T18:54:49.181594Z"
    },
    "papermill": {
     "duration": 0.055407,
     "end_time": "2022-06-24T18:54:49.184423",
     "exception": false,
     "start_time": "2022-06-24T18:54:49.129016",
     "status": "completed"
    },
    "tags": []
   },
   "outputs": [
    {
     "data": {
      "text/plain": [
       "array([34.7514337 , 18.        , 17.        , 61.        , 26.        ,\n",
       "       14.        , 25.        , 19.        , 46.        , 55.        ,\n",
       "       32.        , 24.        , 20.        , 34.        , 23.        ,\n",
       "       51.        , 31.        , 21.        , 44.        , 30.        ,\n",
       "       57.        , 43.        , 37.        , 41.        , 54.        ,\n",
       "       42.        , 50.        , 39.        , 53.        , 47.        ,\n",
       "       36.        , 28.        , 35.        , 13.        , 58.        ,\n",
       "       49.        , 38.        , 45.        , 62.        , 63.        ,\n",
       "       27.        , 33.        , 29.        , 66.        , 40.        ,\n",
       "       15.        , 60.        , 34.73485224, 79.        , 22.        ,\n",
       "       16.        , 65.        , 59.        , 48.        , 72.        ,\n",
       "       56.        , 67.        , 80.        , 52.        , 69.        ,\n",
       "       71.        , 73.        , 78.        ,  9.        , 64.        ,\n",
       "       12.        , 74.        , 75.        , 76.        , 83.        ,\n",
       "       68.        , 11.        , 77.        , 70.        ,  8.        ,\n",
       "        7.        , 81.        , 10.        ,  5.        ,  6.        ,\n",
       "       84.        , 82.        , 90.        , 85.        , 86.        ,\n",
       "       87.        , 89.        , 88.        ])"
      ]
     },
     "execution_count": 39,
     "metadata": {},
     "output_type": "execute_result"
    }
   ],
   "source": [
    "users_data['age'].unique()"
   ]
  },
  {
   "cell_type": "markdown",
   "id": "2cc685fc",
   "metadata": {
    "papermill": {
     "duration": 0.040033,
     "end_time": "2022-06-24T18:54:49.263526",
     "exception": false,
     "start_time": "2022-06-24T18:54:49.223493",
     "status": "completed"
    },
    "tags": []
   },
   "source": [
    "As we can see above we don't have any null values for age."
   ]
  },
  {
   "cell_type": "markdown",
   "id": "2ec54534",
   "metadata": {
    "papermill": {
     "duration": 0.038102,
     "end_time": "2022-06-24T18:54:49.340639",
     "exception": false,
     "start_time": "2022-06-24T18:54:49.302537",
     "status": "completed"
    },
    "tags": []
   },
   "source": [
    "## Now let's take ratings_data dataset"
   ]
  },
  {
   "cell_type": "code",
   "execution_count": 40,
   "id": "e8d90ef9",
   "metadata": {
    "execution": {
     "iopub.execute_input": "2022-06-24T18:54:49.421707Z",
     "iopub.status.busy": "2022-06-24T18:54:49.420977Z",
     "iopub.status.idle": "2022-06-24T18:54:49.431520Z",
     "shell.execute_reply": "2022-06-24T18:54:49.430370Z"
    },
    "papermill": {
     "duration": 0.053729,
     "end_time": "2022-06-24T18:54:49.433852",
     "exception": false,
     "start_time": "2022-06-24T18:54:49.380123",
     "status": "completed"
    },
    "tags": []
   },
   "outputs": [
    {
     "data": {
      "text/html": [
       "<div>\n",
       "<style scoped>\n",
       "    .dataframe tbody tr th:only-of-type {\n",
       "        vertical-align: middle;\n",
       "    }\n",
       "\n",
       "    .dataframe tbody tr th {\n",
       "        vertical-align: top;\n",
       "    }\n",
       "\n",
       "    .dataframe thead th {\n",
       "        text-align: right;\n",
       "    }\n",
       "</style>\n",
       "<table border=\"1\" class=\"dataframe\">\n",
       "  <thead>\n",
       "    <tr style=\"text-align: right;\">\n",
       "      <th></th>\n",
       "      <th>user_id</th>\n",
       "      <th>isbn</th>\n",
       "      <th>book_rating</th>\n",
       "    </tr>\n",
       "  </thead>\n",
       "  <tbody>\n",
       "    <tr>\n",
       "      <th>0</th>\n",
       "      <td>276725</td>\n",
       "      <td>034545104X</td>\n",
       "      <td>0</td>\n",
       "    </tr>\n",
       "    <tr>\n",
       "      <th>1</th>\n",
       "      <td>276726</td>\n",
       "      <td>0155061224</td>\n",
       "      <td>5</td>\n",
       "    </tr>\n",
       "    <tr>\n",
       "      <th>2</th>\n",
       "      <td>276727</td>\n",
       "      <td>0446520802</td>\n",
       "      <td>0</td>\n",
       "    </tr>\n",
       "    <tr>\n",
       "      <th>3</th>\n",
       "      <td>276729</td>\n",
       "      <td>052165615X</td>\n",
       "      <td>3</td>\n",
       "    </tr>\n",
       "    <tr>\n",
       "      <th>4</th>\n",
       "      <td>276729</td>\n",
       "      <td>0521795028</td>\n",
       "      <td>6</td>\n",
       "    </tr>\n",
       "  </tbody>\n",
       "</table>\n",
       "</div>"
      ],
      "text/plain": [
       "   user_id        isbn  book_rating\n",
       "0  276725   034545104X  0          \n",
       "1  276726   0155061224  5          \n",
       "2  276727   0446520802  0          \n",
       "3  276729   052165615X  3          \n",
       "4  276729   0521795028  6          "
      ]
     },
     "execution_count": 40,
     "metadata": {},
     "output_type": "execute_result"
    }
   ],
   "source": [
    "ratings_data.head()"
   ]
  },
  {
   "cell_type": "code",
   "execution_count": 41,
   "id": "3f6d96fa",
   "metadata": {
    "execution": {
     "iopub.execute_input": "2022-06-24T18:54:49.514823Z",
     "iopub.status.busy": "2022-06-24T18:54:49.514339Z",
     "iopub.status.idle": "2022-06-24T18:54:49.999992Z",
     "shell.execute_reply": "2022-06-24T18:54:49.998988Z"
    },
    "papermill": {
     "duration": 0.529479,
     "end_time": "2022-06-24T18:54:50.002842",
     "exception": false,
     "start_time": "2022-06-24T18:54:49.473363",
     "status": "completed"
    },
    "tags": []
   },
   "outputs": [
    {
     "data": {
      "text/html": [
       "<div>\n",
       "<style scoped>\n",
       "    .dataframe tbody tr th:only-of-type {\n",
       "        vertical-align: middle;\n",
       "    }\n",
       "\n",
       "    .dataframe tbody tr th {\n",
       "        vertical-align: top;\n",
       "    }\n",
       "\n",
       "    .dataframe thead th {\n",
       "        text-align: right;\n",
       "    }\n",
       "</style>\n",
       "<table border=\"1\" class=\"dataframe\">\n",
       "  <thead>\n",
       "    <tr style=\"text-align: right;\">\n",
       "      <th></th>\n",
       "      <th>user_id</th>\n",
       "      <th>isbn</th>\n",
       "      <th>book_rating</th>\n",
       "    </tr>\n",
       "  </thead>\n",
       "  <tbody>\n",
       "    <tr>\n",
       "      <th>0</th>\n",
       "      <td>276725</td>\n",
       "      <td>034545104X</td>\n",
       "      <td>0</td>\n",
       "    </tr>\n",
       "    <tr>\n",
       "      <th>1</th>\n",
       "      <td>276726</td>\n",
       "      <td>0155061224</td>\n",
       "      <td>5</td>\n",
       "    </tr>\n",
       "    <tr>\n",
       "      <th>2</th>\n",
       "      <td>276727</td>\n",
       "      <td>0446520802</td>\n",
       "      <td>0</td>\n",
       "    </tr>\n",
       "    <tr>\n",
       "      <th>3</th>\n",
       "      <td>276729</td>\n",
       "      <td>052165615X</td>\n",
       "      <td>3</td>\n",
       "    </tr>\n",
       "    <tr>\n",
       "      <th>4</th>\n",
       "      <td>276729</td>\n",
       "      <td>0521795028</td>\n",
       "      <td>6</td>\n",
       "    </tr>\n",
       "    <tr>\n",
       "      <th>...</th>\n",
       "      <td>...</td>\n",
       "      <td>...</td>\n",
       "      <td>...</td>\n",
       "    </tr>\n",
       "    <tr>\n",
       "      <th>1149774</th>\n",
       "      <td>276704</td>\n",
       "      <td>0876044011</td>\n",
       "      <td>0</td>\n",
       "    </tr>\n",
       "    <tr>\n",
       "      <th>1149775</th>\n",
       "      <td>276704</td>\n",
       "      <td>1563526298</td>\n",
       "      <td>9</td>\n",
       "    </tr>\n",
       "    <tr>\n",
       "      <th>1149776</th>\n",
       "      <td>276706</td>\n",
       "      <td>0679447156</td>\n",
       "      <td>0</td>\n",
       "    </tr>\n",
       "    <tr>\n",
       "      <th>1149777</th>\n",
       "      <td>276709</td>\n",
       "      <td>0515107662</td>\n",
       "      <td>10</td>\n",
       "    </tr>\n",
       "    <tr>\n",
       "      <th>1149778</th>\n",
       "      <td>276721</td>\n",
       "      <td>0590442449</td>\n",
       "      <td>10</td>\n",
       "    </tr>\n",
       "  </tbody>\n",
       "</table>\n",
       "<p>1031136 rows × 3 columns</p>\n",
       "</div>"
      ],
      "text/plain": [
       "         user_id        isbn  book_rating\n",
       "0        276725   034545104X  0          \n",
       "1        276726   0155061224  5          \n",
       "2        276727   0446520802  0          \n",
       "3        276729   052165615X  3          \n",
       "4        276729   0521795028  6          \n",
       "...         ...          ... ..          \n",
       "1149774  276704   0876044011  0          \n",
       "1149775  276704   1563526298  9          \n",
       "1149776  276706   0679447156  0          \n",
       "1149777  276709   0515107662  10         \n",
       "1149778  276721   0590442449  10         \n",
       "\n",
       "[1031136 rows x 3 columns]"
      ]
     },
     "execution_count": 41,
     "metadata": {},
     "output_type": "execute_result"
    }
   ],
   "source": [
    "# finding unique ISBNs from rating and book dataset\n",
    "unique_ratings = ratings_data[ratings_data.isbn.isin(book_data.isbn)]\n",
    "unique_ratings"
   ]
  },
  {
   "cell_type": "code",
   "execution_count": 42,
   "id": "ed148a69",
   "metadata": {
    "execution": {
     "iopub.execute_input": "2022-06-24T18:54:50.084975Z",
     "iopub.status.busy": "2022-06-24T18:54:50.084268Z",
     "iopub.status.idle": "2022-06-24T18:54:50.090025Z",
     "shell.execute_reply": "2022-06-24T18:54:50.088643Z"
    },
    "papermill": {
     "duration": 0.050469,
     "end_time": "2022-06-24T18:54:50.092275",
     "exception": false,
     "start_time": "2022-06-24T18:54:50.041806",
     "status": "completed"
    },
    "tags": []
   },
   "outputs": [
    {
     "name": "stdout",
     "output_type": "stream",
     "text": [
      "(1149780, 3)\n",
      "(1031136, 3)\n"
     ]
    }
   ],
   "source": [
    "print(ratings_data.shape)\n",
    "print(unique_ratings.shape)"
   ]
  },
  {
   "cell_type": "code",
   "execution_count": 43,
   "id": "476bab78",
   "metadata": {
    "execution": {
     "iopub.execute_input": "2022-06-24T18:54:50.175912Z",
     "iopub.status.busy": "2022-06-24T18:54:50.175497Z",
     "iopub.status.idle": "2022-06-24T18:54:50.189646Z",
     "shell.execute_reply": "2022-06-24T18:54:50.188376Z"
    },
    "papermill": {
     "duration": 0.058584,
     "end_time": "2022-06-24T18:54:50.191776",
     "exception": false,
     "start_time": "2022-06-24T18:54:50.133192",
     "status": "completed"
    },
    "tags": []
   },
   "outputs": [
    {
     "data": {
      "text/plain": [
       "array([ 0,  5,  3,  6,  7,  9,  8, 10,  1,  4,  2])"
      ]
     },
     "execution_count": 43,
     "metadata": {},
     "output_type": "execute_result"
    }
   ],
   "source": [
    "# unique ratings from 'book_rating' feature\n",
    "unique_ratings['book_rating'].unique()"
   ]
  },
  {
   "cell_type": "markdown",
   "id": "bdae437a",
   "metadata": {
    "papermill": {
     "duration": 0.040669,
     "end_time": "2022-06-24T18:54:50.273849",
     "exception": false,
     "start_time": "2022-06-24T18:54:50.233180",
     "status": "completed"
    },
    "tags": []
   },
   "source": [
    "# Data Visualizations"
   ]
  },
  {
   "cell_type": "markdown",
   "id": "3c0b9116",
   "metadata": {
    "papermill": {
     "duration": 0.040158,
     "end_time": "2022-06-24T18:54:50.354546",
     "exception": false,
     "start_time": "2022-06-24T18:54:50.314388",
     "status": "completed"
    },
    "tags": []
   },
   "source": [
    "## Book_data dataset"
   ]
  },
  {
   "cell_type": "markdown",
   "id": "b5981e3a",
   "metadata": {
    "papermill": {
     "duration": 0.040528,
     "end_time": "2022-06-24T18:54:50.435619",
     "exception": false,
     "start_time": "2022-06-24T18:54:50.395091",
     "status": "completed"
    },
    "tags": []
   },
   "source": [
    "**Analysis no. 1** - \n",
    "\n",
    "Which are the top Author with number of books ?"
   ]
  },
  {
   "cell_type": "code",
   "execution_count": 44,
   "id": "c4b30bca",
   "metadata": {
    "execution": {
     "iopub.execute_input": "2022-06-24T18:54:50.517361Z",
     "iopub.status.busy": "2022-06-24T18:54:50.516746Z",
     "iopub.status.idle": "2022-06-24T18:54:51.703986Z",
     "shell.execute_reply": "2022-06-24T18:54:51.702778Z"
    },
    "papermill": {
     "duration": 1.230687,
     "end_time": "2022-06-24T18:54:51.706530",
     "exception": false,
     "start_time": "2022-06-24T18:54:50.475843",
     "status": "completed"
    },
    "tags": []
   },
   "outputs": [
    {
     "data": {
      "text/plain": [
       "Text(0.5, 1.0, 'Top 20 author with number of books')"
      ]
     },
     "execution_count": 44,
     "metadata": {},
     "output_type": "execute_result"
    },
    {
     "data": {
      "image/png": "[encoded data removed]",
      "text/plain": [
       "<Figure size 864x432 with 1 Axes>"
      ]
     },
     "metadata": {
      "needs_background": "light"
     },
     "output_type": "display_data"
    }
   ],
   "source": [
    "plt.figure(figsize=(12,6))\n",
    "sns.countplot(y=\"book_author\",palette = 'Paired', data=book_data,order=book_data['book_author'].value_counts().index[0:20])\n",
    "plt.title(\"Top 20 author with number of books\")"
   ]
  },
  {
   "cell_type": "markdown",
   "id": "dd600a7f",
   "metadata": {
    "papermill": {
     "duration": 0.040529,
     "end_time": "2022-06-24T18:54:51.787529",
     "exception": false,
     "start_time": "2022-06-24T18:54:51.747000",
     "status": "completed"
    },
    "tags": []
   },
   "source": [
    "Agatha Christie is leading at top with more than 600 counts, followed by William Shakespeare."
   ]
  },
  {
   "cell_type": "markdown",
   "id": "a4377b6e",
   "metadata": {
    "papermill": {
     "duration": 0.040667,
     "end_time": "2022-06-24T18:54:51.868390",
     "exception": false,
     "start_time": "2022-06-24T18:54:51.827723",
     "status": "completed"
    },
    "tags": []
   },
   "source": [
    "**Analysis no.2** -\n",
    "\n",
    " Which are top publishers with published books ?"
   ]
  },
  {
   "cell_type": "code",
   "execution_count": 45,
   "id": "32ae5016",
   "metadata": {
    "execution": {
     "iopub.execute_input": "2022-06-24T18:54:51.951716Z",
     "iopub.status.busy": "2022-06-24T18:54:51.951097Z",
     "iopub.status.idle": "2022-06-24T18:54:52.617088Z",
     "shell.execute_reply": "2022-06-24T18:54:52.615950Z"
    },
    "papermill": {
     "duration": 0.711107,
     "end_time": "2022-06-24T18:54:52.620195",
     "exception": false,
     "start_time": "2022-06-24T18:54:51.909088",
     "status": "completed"
    },
    "tags": []
   },
   "outputs": [
    {
     "data": {
      "text/plain": [
       "Text(0.5, 1.0, 'Top 20 Publishers with number of books published')"
      ]
     },
     "execution_count": 45,
     "metadata": {},
     "output_type": "execute_result"
    },
    {
     "data": {
      "image/png": "[encoded data removed]",
      "text/plain": [
       "<Figure size 864x432 with 1 Axes>"
      ]
     },
     "metadata": {
      "needs_background": "light"
     },
     "output_type": "display_data"
    }
   ],
   "source": [
    "plt.figure(figsize=(12,6))\n",
    "sns.countplot(y=\"publisher\",palette = 'Paired', data=book_data,order=book_data['publisher'].value_counts().index[0:20])\n",
    "plt.title(\"Top 20 Publishers with number of books published\")"
   ]
  },
  {
   "cell_type": "markdown",
   "id": "0fbc3f2c",
   "metadata": {
    "papermill": {
     "duration": 0.041996,
     "end_time": "2022-06-24T18:54:52.704262",
     "exception": false,
     "start_time": "2022-06-24T18:54:52.662266",
     "status": "completed"
    },
    "tags": []
   },
   "source": [
    "Harlequin has most number of books published, followed by Silhouette."
   ]
  },
  {
   "cell_type": "markdown",
   "id": "b046ec7e",
   "metadata": {
    "papermill": {
     "duration": 0.042488,
     "end_time": "2022-06-24T18:54:52.788475",
     "exception": false,
     "start_time": "2022-06-24T18:54:52.745987",
     "status": "completed"
    },
    "tags": []
   },
   "source": [
    "**Analysis no.3** -\n",
    "\n",
    "Number of Books published in yearly."
   ]
  },
  {
   "cell_type": "code",
   "execution_count": 46,
   "id": "30045097",
   "metadata": {
    "execution": {
     "iopub.execute_input": "2022-06-24T18:54:52.873942Z",
     "iopub.status.busy": "2022-06-24T18:54:52.873228Z",
     "iopub.status.idle": "2022-06-24T18:54:54.801940Z",
     "shell.execute_reply": "2022-06-24T18:54:54.800886Z"
    },
    "papermill": {
     "duration": 1.974342,
     "end_time": "2022-06-24T18:54:54.804209",
     "exception": false,
     "start_time": "2022-06-24T18:54:52.829867",
     "status": "completed"
    },
    "tags": []
   },
   "outputs": [
    {
     "data": {
      "image/png": "[encoded data removed]",
      "text/plain": [
       "<Figure size 3960x1080 with 1 Axes>"
      ]
     },
     "metadata": {
      "needs_background": "light"
     },
     "output_type": "display_data"
    }
   ],
   "source": [
    "publications = {}\n",
    "for year in book_data['year_of_publication']:\n",
    "    if str(year) not in publications:\n",
    "        publications[str(year)] = 0\n",
    "    publications[str(year)] +=1\n",
    "\n",
    "publications = {k:v for k, v in sorted(publications.items())}\n",
    "\n",
    "fig = plt.figure(figsize =(55, 15))\n",
    "plt.bar(list(publications.keys()),list(publications.values()), color = 'blue')\n",
    "plt.ylabel(\"Number of books published\")\n",
    "plt.xlabel(\"Year of Publication\")\n",
    "plt.title(\"Number of books published yearly\")\n",
    "plt.margins(x = 0)\n",
    "plt.show()"
   ]
  },
  {
   "cell_type": "code",
   "execution_count": 47,
   "id": "10a25548",
   "metadata": {
    "execution": {
     "iopub.execute_input": "2022-06-24T18:54:54.892228Z",
     "iopub.status.busy": "2022-06-24T18:54:54.891635Z",
     "iopub.status.idle": "2022-06-24T18:54:55.107413Z",
     "shell.execute_reply": "2022-06-24T18:54:55.106177Z"
    },
    "papermill": {
     "duration": 0.263262,
     "end_time": "2022-06-24T18:54:55.110299",
     "exception": false,
     "start_time": "2022-06-24T18:54:54.847037",
     "status": "completed"
    },
    "tags": []
   },
   "outputs": [
    {
     "name": "stdout",
     "output_type": "stream",
     "text": [
      "There are 4618 entries as '0', and 0 NaN entries in the Year of Publication field\n"
     ]
    }
   ],
   "source": [
    "book_data.year_of_publication = pd.to_numeric(book_data.year_of_publication, errors='coerce')\n",
    "\n",
    "# Checking for 0's or NaNs in Year of Publication\n",
    "zero_year = book_data[book_data.year_of_publication == 0].year_of_publication.count()\n",
    "nan_year = book_data.year_of_publication.isnull().sum()\n",
    "\n",
    "print(f'There are {zero_year} entries as \\'0\\', and {nan_year} NaN entries in the Year of Publication field')\n",
    "\n",
    "# Replace all years of zero with NaN\n",
    "book_data.year_of_publication.replace(0, np.nan, inplace=True)"
   ]
  },
  {
   "cell_type": "code",
   "execution_count": 48,
   "id": "526b245a",
   "metadata": {
    "execution": {
     "iopub.execute_input": "2022-06-24T18:54:55.198712Z",
     "iopub.status.busy": "2022-06-24T18:54:55.198300Z",
     "iopub.status.idle": "2022-06-24T18:54:55.691098Z",
     "shell.execute_reply": "2022-06-24T18:54:55.689970Z"
    },
    "papermill": {
     "duration": 0.539578,
     "end_time": "2022-06-24T18:54:55.693303",
     "exception": false,
     "start_time": "2022-06-24T18:54:55.153725",
     "status": "completed"
    },
    "tags": []
   },
   "outputs": [
    {
     "data": {
      "image/png": "[encoded data removed]",
      "text/plain": [
       "<Figure size 720x576 with 1 Axes>"
      ]
     },
     "metadata": {
      "needs_background": "light"
     },
     "output_type": "display_data"
    }
   ],
   "source": [
    "year = book_data.year_of_publication.value_counts().sort_index()\n",
    "year = year.where(year>5) \n",
    "plt.figure(figsize=(10, 8))\n",
    "plt.rcParams.update({'font.size': 15}) \n",
    "plt.bar(year.index, year.values)\n",
    "plt.xlabel('Year of Publication')\n",
    "plt.ylabel('counts')\n",
    "plt.show()"
   ]
  },
  {
   "cell_type": "markdown",
   "id": "a2388f96",
   "metadata": {
    "papermill": {
     "duration": 0.042737,
     "end_time": "2022-06-24T18:54:55.779031",
     "exception": false,
     "start_time": "2022-06-24T18:54:55.736294",
     "status": "completed"
    },
    "tags": []
   },
   "source": [
    "So we can see publication years are somewhat between 1950 - 2005 here."
   ]
  },
  {
   "cell_type": "markdown",
   "id": "3029a9c3",
   "metadata": {
    "papermill": {
     "duration": 0.04265,
     "end_time": "2022-06-24T18:54:55.864561",
     "exception": false,
     "start_time": "2022-06-24T18:54:55.821911",
     "status": "completed"
    },
    "tags": []
   },
   "source": [
    "## User_data Dataset"
   ]
  },
  {
   "cell_type": "markdown",
   "id": "8a1983e0",
   "metadata": {
    "papermill": {
     "duration": 0.043765,
     "end_time": "2022-06-24T18:54:55.953096",
     "exception": false,
     "start_time": "2022-06-24T18:54:55.909331",
     "status": "completed"
    },
    "tags": []
   },
   "source": [
    "**Analysis no.4** -\n",
    "\n",
    "Age distributions of users_data"
   ]
  },
  {
   "cell_type": "code",
   "execution_count": 49,
   "id": "f2d0ec50",
   "metadata": {
    "execution": {
     "iopub.execute_input": "2022-06-24T18:54:56.042267Z",
     "iopub.status.busy": "2022-06-24T18:54:56.041883Z",
     "iopub.status.idle": "2022-06-24T18:54:56.342271Z",
     "shell.execute_reply": "2022-06-24T18:54:56.341140Z"
    },
    "papermill": {
     "duration": 0.347629,
     "end_time": "2022-06-24T18:54:56.344597",
     "exception": false,
     "start_time": "2022-06-24T18:54:55.996968",
     "status": "completed"
    },
    "tags": []
   },
   "outputs": [
    {
     "data": {
      "image/png": "[encoded data removed]",
      "text/plain": [
       "<Figure size 720x576 with 1 Axes>"
      ]
     },
     "metadata": {
      "needs_background": "light"
     },
     "output_type": "display_data"
    }
   ],
   "source": [
    "plt.figure(figsize=(10,8))\n",
    "users_data.age.hist(bins=[10*i for i in range(1, 10)], color = 'cyan')     \n",
    "plt.title('Age Distribution')\n",
    "plt.xlabel('Age')\n",
    "plt.ylabel('Count')\n",
    "plt.show()"
   ]
  },
  {
   "cell_type": "markdown",
   "id": "fb09a4f4",
   "metadata": {
    "papermill": {
     "duration": 0.04412,
     "end_time": "2022-06-24T18:54:56.432523",
     "exception": false,
     "start_time": "2022-06-24T18:54:56.388403",
     "status": "completed"
    },
    "tags": []
   },
   "source": [
    "The age between 30-40 prefer more and somewhat we can also view between 20-30."
   ]
  },
  {
   "cell_type": "markdown",
   "id": "0fdd9110",
   "metadata": {
    "papermill": {
     "duration": 0.043076,
     "end_time": "2022-06-24T18:54:56.518946",
     "exception": false,
     "start_time": "2022-06-24T18:54:56.475870",
     "status": "completed"
    },
    "tags": []
   },
   "source": [
    "## Ratings_data Dataset"
   ]
  },
  {
   "cell_type": "markdown",
   "id": "242c0769",
   "metadata": {
    "papermill": {
     "duration": 0.042298,
     "end_time": "2022-06-24T18:54:56.603527",
     "exception": false,
     "start_time": "2022-06-24T18:54:56.561229",
     "status": "completed"
    },
    "tags": []
   },
   "source": [
    "**Analysis No. 5**\n",
    "\n",
    "What are top 20 books as per number of ratings ? "
   ]
  },
  {
   "cell_type": "code",
   "execution_count": 50,
   "id": "bf3bb596",
   "metadata": {
    "execution": {
     "iopub.execute_input": "2022-06-24T18:54:56.690128Z",
     "iopub.status.busy": "2022-06-24T18:54:56.689692Z",
     "iopub.status.idle": "2022-06-24T18:54:58.615500Z",
     "shell.execute_reply": "2022-06-24T18:54:58.614386Z"
    },
    "papermill": {
     "duration": 1.971948,
     "end_time": "2022-06-24T18:54:58.617863",
     "exception": false,
     "start_time": "2022-06-24T18:54:56.645915",
     "status": "completed"
    },
    "tags": []
   },
   "outputs": [
    {
     "data": {
      "text/plain": [
       "Text(0.5, 1.0, 'Top 20 books as per number of ratings')"
      ]
     },
     "execution_count": 50,
     "metadata": {},
     "output_type": "execute_result"
    },
    {
     "data": {
      "image/png": "[encoded data removed]",
      "text/plain": [
       "<Figure size 864x432 with 1 Axes>"
      ]
     },
     "metadata": {
      "needs_background": "light"
     },
     "output_type": "display_data"
    }
   ],
   "source": [
    "plt.figure(figsize=(12,6))\n",
    "sns.countplot(y=\"book_title\",palette = 'Paired',data= book_data, order=book_data['book_title'].value_counts().index[0:15])\n",
    "plt.title(\"Top 20 books as per number of ratings\")"
   ]
  },
  {
   "cell_type": "markdown",
   "id": "663b0f3e",
   "metadata": {
    "papermill": {
     "duration": 0.043604,
     "end_time": "2022-06-24T18:54:58.705461",
     "exception": false,
     "start_time": "2022-06-24T18:54:58.661857",
     "status": "completed"
    },
    "tags": []
   },
   "source": [
    "As per ratings \"Selected Poems\" has been rated most followed by \"Little Women\"."
   ]
  },
  {
   "cell_type": "code",
   "execution_count": 51,
   "id": "6c0836d4",
   "metadata": {
    "execution": {
     "iopub.execute_input": "2022-06-24T18:54:58.795533Z",
     "iopub.status.busy": "2022-06-24T18:54:58.795117Z",
     "iopub.status.idle": "2022-06-24T18:54:59.135782Z",
     "shell.execute_reply": "2022-06-24T18:54:59.134994Z"
    },
    "papermill": {
     "duration": 0.387907,
     "end_time": "2022-06-24T18:54:59.137727",
     "exception": false,
     "start_time": "2022-06-24T18:54:58.749820",
     "status": "completed"
    },
    "tags": []
   },
   "outputs": [
    {
     "data": {
      "text/plain": [
       "<AxesSubplot:xlabel='book_rating', ylabel='count'>"
      ]
     },
     "execution_count": 51,
     "metadata": {},
     "output_type": "execute_result"
    },
    {
     "data": {
      "image/png": "[encoded data removed]",
      "text/plain": [
       "<Figure size 576x432 with 1 Axes>"
      ]
     },
     "metadata": {
      "needs_background": "light"
     },
     "output_type": "display_data"
    }
   ],
   "source": [
    "plt.figure(figsize=(8,6))\n",
    "sns.countplot(x=\"book_rating\",palette = 'Paired',data= unique_ratings)"
   ]
  },
  {
   "cell_type": "markdown",
   "id": "3ec8376c",
   "metadata": {
    "papermill": {
     "duration": 0.04403,
     "end_time": "2022-06-24T18:54:59.225427",
     "exception": false,
     "start_time": "2022-06-24T18:54:59.181397",
     "status": "completed"
    },
    "tags": []
   },
   "source": [
    "This countplot shows users have rated 0 the most, which means they haven't rated books at all. We have to separate the explicit ratings represented by 1–10 and implicit ratings represented by 0."
   ]
  },
  {
   "cell_type": "code",
   "execution_count": 52,
   "id": "8f8b9142",
   "metadata": {
    "execution": {
     "iopub.execute_input": "2022-06-24T18:54:59.315801Z",
     "iopub.status.busy": "2022-06-24T18:54:59.315098Z",
     "iopub.status.idle": "2022-06-24T18:54:59.807974Z",
     "shell.execute_reply": "2022-06-24T18:54:59.807204Z"
    },
    "papermill": {
     "duration": 0.541309,
     "end_time": "2022-06-24T18:54:59.809958",
     "exception": false,
     "start_time": "2022-06-24T18:54:59.268649",
     "status": "completed"
    },
    "tags": []
   },
   "outputs": [
    {
     "data": {
      "text/plain": [
       "Text(0.5, 1.0, 'Explicit Ratings')"
      ]
     },
     "execution_count": 52,
     "metadata": {},
     "output_type": "execute_result"
    },
    {
     "data": {
      "image/png": "[encoded data removed]",
      "text/plain": [
       "<Figure size 576x432 with 1 Axes>"
      ]
     },
     "metadata": {
      "needs_background": "light"
     },
     "output_type": "display_data"
    }
   ],
   "source": [
    "# Explicit Ratings\n",
    "plt.figure(figsize=(8,6))\n",
    "rate_data = unique_ratings[unique_ratings['book_rating'] != 0]\n",
    "sns.countplot(x=\"book_rating\",palette = 'Paired',data=rate_data)\n",
    "plt.title(\"Explicit Ratings\")"
   ]
  },
  {
   "cell_type": "markdown",
   "id": "85807506",
   "metadata": {
    "papermill": {
     "duration": 0.04705,
     "end_time": "2022-06-24T18:54:59.902499",
     "exception": false,
     "start_time": "2022-06-24T18:54:59.855449",
     "status": "completed"
    },
    "tags": []
   },
   "source": [
    "Now this countplot of bookRating indicates that higher ratings are more common amongst users and rating 8 has been rated highest number of times."
   ]
  },
  {
   "cell_type": "markdown",
   "id": "4800aeaa",
   "metadata": {
    "papermill": {
     "duration": 0.044951,
     "end_time": "2022-06-24T18:54:59.992171",
     "exception": false,
     "start_time": "2022-06-24T18:54:59.947220",
     "status": "completed"
    },
    "tags": []
   },
   "source": [
    "# Popularity Based Recommendation"
   ]
  },
  {
   "cell_type": "markdown",
   "id": "dc3e88cf",
   "metadata": {
    "papermill": {
     "duration": 0.04492,
     "end_time": "2022-06-24T18:55:00.086070",
     "exception": false,
     "start_time": "2022-06-24T18:55:00.041150",
     "status": "completed"
    },
    "tags": []
   },
   "source": [
    "Now let's try to build our first recommendation system based on popularity. This recommendations are usually given to every user irrespective of personal charecterization."
   ]
  },
  {
   "cell_type": "markdown",
   "id": "6aad3e72",
   "metadata": {
    "papermill": {
     "duration": 0.044693,
     "end_time": "2022-06-24T18:55:00.175251",
     "exception": false,
     "start_time": "2022-06-24T18:55:00.130558",
     "status": "completed"
    },
    "tags": []
   },
   "source": [
    " We have to separate the explicit ratings represented by 1–10 and implicit ratings represented by 0."
   ]
  },
  {
   "cell_type": "code",
   "execution_count": 53,
   "id": "c8414cbd",
   "metadata": {
    "execution": {
     "iopub.execute_input": "2022-06-24T18:55:00.268550Z",
     "iopub.status.busy": "2022-06-24T18:55:00.268138Z",
     "iopub.status.idle": "2022-06-24T18:55:00.338850Z",
     "shell.execute_reply": "2022-06-24T18:55:00.337687Z"
    },
    "papermill": {
     "duration": 0.12088,
     "end_time": "2022-06-24T18:55:00.341600",
     "exception": false,
     "start_time": "2022-06-24T18:55:00.220720",
     "status": "completed"
    },
    "tags": []
   },
   "outputs": [],
   "source": [
    "ratings_explicit= unique_ratings[unique_ratings['book_rating'] != 0]   #  explicit ratings represented by 1–10\n",
    "ratings_implicit= unique_ratings[unique_ratings['book_rating'] == 0]   # implicit ratings represented by 0"
   ]
  },
  {
   "cell_type": "code",
   "execution_count": 54,
   "id": "e54150aa",
   "metadata": {
    "execution": {
     "iopub.execute_input": "2022-06-24T18:55:00.433743Z",
     "iopub.status.busy": "2022-06-24T18:55:00.433300Z",
     "iopub.status.idle": "2022-06-24T18:55:00.443898Z",
     "shell.execute_reply": "2022-06-24T18:55:00.442933Z"
    },
    "papermill": {
     "duration": 0.059344,
     "end_time": "2022-06-24T18:55:00.446079",
     "exception": false,
     "start_time": "2022-06-24T18:55:00.386735",
     "status": "completed"
    },
    "tags": []
   },
   "outputs": [
    {
     "data": {
      "text/html": [
       "<div>\n",
       "<style scoped>\n",
       "    .dataframe tbody tr th:only-of-type {\n",
       "        vertical-align: middle;\n",
       "    }\n",
       "\n",
       "    .dataframe tbody tr th {\n",
       "        vertical-align: top;\n",
       "    }\n",
       "\n",
       "    .dataframe thead th {\n",
       "        text-align: right;\n",
       "    }\n",
       "</style>\n",
       "<table border=\"1\" class=\"dataframe\">\n",
       "  <thead>\n",
       "    <tr style=\"text-align: right;\">\n",
       "      <th></th>\n",
       "      <th>user_id</th>\n",
       "      <th>isbn</th>\n",
       "      <th>book_rating</th>\n",
       "    </tr>\n",
       "  </thead>\n",
       "  <tbody>\n",
       "    <tr>\n",
       "      <th>1</th>\n",
       "      <td>276726</td>\n",
       "      <td>0155061224</td>\n",
       "      <td>5</td>\n",
       "    </tr>\n",
       "    <tr>\n",
       "      <th>3</th>\n",
       "      <td>276729</td>\n",
       "      <td>052165615X</td>\n",
       "      <td>3</td>\n",
       "    </tr>\n",
       "    <tr>\n",
       "      <th>4</th>\n",
       "      <td>276729</td>\n",
       "      <td>0521795028</td>\n",
       "      <td>6</td>\n",
       "    </tr>\n",
       "    <tr>\n",
       "      <th>8</th>\n",
       "      <td>276744</td>\n",
       "      <td>038550120X</td>\n",
       "      <td>7</td>\n",
       "    </tr>\n",
       "    <tr>\n",
       "      <th>16</th>\n",
       "      <td>276747</td>\n",
       "      <td>0060517794</td>\n",
       "      <td>9</td>\n",
       "    </tr>\n",
       "  </tbody>\n",
       "</table>\n",
       "</div>"
      ],
      "text/plain": [
       "    user_id        isbn  book_rating\n",
       "1   276726   0155061224  5          \n",
       "3   276729   052165615X  3          \n",
       "4   276729   0521795028  6          \n",
       "8   276744   038550120X  7          \n",
       "16  276747   0060517794  9          "
      ]
     },
     "execution_count": 54,
     "metadata": {},
     "output_type": "execute_result"
    }
   ],
   "source": [
    "ratings_explicit.head()"
   ]
  },
  {
   "cell_type": "code",
   "execution_count": 55,
   "id": "8d206106",
   "metadata": {
    "execution": {
     "iopub.execute_input": "2022-06-24T18:55:00.537938Z",
     "iopub.status.busy": "2022-06-24T18:55:00.537511Z",
     "iopub.status.idle": "2022-06-24T18:55:00.542359Z",
     "shell.execute_reply": "2022-06-24T18:55:00.541653Z"
    },
    "papermill": {
     "duration": 0.054034,
     "end_time": "2022-06-24T18:55:00.545169",
     "exception": false,
     "start_time": "2022-06-24T18:55:00.491135",
     "status": "completed"
    },
    "tags": []
   },
   "outputs": [
    {
     "name": "stdout",
     "output_type": "stream",
     "text": [
      "(1031136, 3)\n",
      "(383842, 3)\n"
     ]
    }
   ],
   "source": [
    "print(unique_ratings.shape)\n",
    "print(ratings_explicit.shape)"
   ]
  },
  {
   "cell_type": "markdown",
   "id": "b846a1bd",
   "metadata": {
    "papermill": {
     "duration": 0.044774,
     "end_time": "2022-06-24T18:55:00.636181",
     "exception": false,
     "start_time": "2022-06-24T18:55:00.591407",
     "status": "completed"
    },
    "tags": []
   },
   "source": [
    "Merging book_data dataset and ratings_explicit. Considering ISBNs that were explicitely rated for this recommendation system."
   ]
  },
  {
   "cell_type": "code",
   "execution_count": 56,
   "id": "b929db4c",
   "metadata": {
    "execution": {
     "iopub.execute_input": "2022-06-24T18:55:00.727640Z",
     "iopub.status.busy": "2022-06-24T18:55:00.726917Z",
     "iopub.status.idle": "2022-06-24T18:55:01.176245Z",
     "shell.execute_reply": "2022-06-24T18:55:01.175180Z"
    },
    "papermill": {
     "duration": 0.49743,
     "end_time": "2022-06-24T18:55:01.178479",
     "exception": false,
     "start_time": "2022-06-24T18:55:00.681049",
     "status": "completed"
    },
    "tags": []
   },
   "outputs": [
    {
     "data": {
      "text/html": [
       "<div>\n",
       "<style scoped>\n",
       "    .dataframe tbody tr th:only-of-type {\n",
       "        vertical-align: middle;\n",
       "    }\n",
       "\n",
       "    .dataframe tbody tr th {\n",
       "        vertical-align: top;\n",
       "    }\n",
       "\n",
       "    .dataframe thead th {\n",
       "        text-align: right;\n",
       "    }\n",
       "</style>\n",
       "<table border=\"1\" class=\"dataframe\">\n",
       "  <thead>\n",
       "    <tr style=\"text-align: right;\">\n",
       "      <th></th>\n",
       "      <th>isbn</th>\n",
       "      <th>book_title</th>\n",
       "      <th>book_author</th>\n",
       "      <th>year_of_publication</th>\n",
       "      <th>publisher</th>\n",
       "      <th>user_id</th>\n",
       "      <th>book_rating</th>\n",
       "    </tr>\n",
       "  </thead>\n",
       "  <tbody>\n",
       "    <tr>\n",
       "      <th>0</th>\n",
       "      <td>0002005018</td>\n",
       "      <td>Clara Callan</td>\n",
       "      <td>Richard Bruce Wright</td>\n",
       "      <td>2001.0</td>\n",
       "      <td>HarperFlamingo Canada</td>\n",
       "      <td>8</td>\n",
       "      <td>5</td>\n",
       "    </tr>\n",
       "    <tr>\n",
       "      <th>1</th>\n",
       "      <td>0002005018</td>\n",
       "      <td>Clara Callan</td>\n",
       "      <td>Richard Bruce Wright</td>\n",
       "      <td>2001.0</td>\n",
       "      <td>HarperFlamingo Canada</td>\n",
       "      <td>11676</td>\n",
       "      <td>8</td>\n",
       "    </tr>\n",
       "    <tr>\n",
       "      <th>2</th>\n",
       "      <td>0002005018</td>\n",
       "      <td>Clara Callan</td>\n",
       "      <td>Richard Bruce Wright</td>\n",
       "      <td>2001.0</td>\n",
       "      <td>HarperFlamingo Canada</td>\n",
       "      <td>67544</td>\n",
       "      <td>8</td>\n",
       "    </tr>\n",
       "    <tr>\n",
       "      <th>3</th>\n",
       "      <td>0002005018</td>\n",
       "      <td>Clara Callan</td>\n",
       "      <td>Richard Bruce Wright</td>\n",
       "      <td>2001.0</td>\n",
       "      <td>HarperFlamingo Canada</td>\n",
       "      <td>116866</td>\n",
       "      <td>9</td>\n",
       "    </tr>\n",
       "    <tr>\n",
       "      <th>4</th>\n",
       "      <td>0002005018</td>\n",
       "      <td>Clara Callan</td>\n",
       "      <td>Richard Bruce Wright</td>\n",
       "      <td>2001.0</td>\n",
       "      <td>HarperFlamingo Canada</td>\n",
       "      <td>123629</td>\n",
       "      <td>9</td>\n",
       "    </tr>\n",
       "  </tbody>\n",
       "</table>\n",
       "</div>"
      ],
      "text/plain": [
       "         isbn    book_title           book_author  year_of_publication  \\\n",
       "0  0002005018  Clara Callan  Richard Bruce Wright  2001.0                \n",
       "1  0002005018  Clara Callan  Richard Bruce Wright  2001.0                \n",
       "2  0002005018  Clara Callan  Richard Bruce Wright  2001.0                \n",
       "3  0002005018  Clara Callan  Richard Bruce Wright  2001.0                \n",
       "4  0002005018  Clara Callan  Richard Bruce Wright  2001.0                \n",
       "\n",
       "               publisher  user_id  book_rating  \n",
       "0  HarperFlamingo Canada  8        5            \n",
       "1  HarperFlamingo Canada  11676    8            \n",
       "2  HarperFlamingo Canada  67544    8            \n",
       "3  HarperFlamingo Canada  116866   9            \n",
       "4  HarperFlamingo Canada  123629   9            "
      ]
     },
     "execution_count": 56,
     "metadata": {},
     "output_type": "execute_result"
    }
   ],
   "source": [
    "# Merging book_data dataset and ratings_explicit\n",
    "new_book_df= pd.merge(book_data, ratings_explicit, on='isbn')\n",
    "new_book_df.head()"
   ]
  },
  {
   "cell_type": "code",
   "execution_count": 57,
   "id": "50a56b25",
   "metadata": {
    "execution": {
     "iopub.execute_input": "2022-06-24T18:55:01.270302Z",
     "iopub.status.busy": "2022-06-24T18:55:01.269581Z",
     "iopub.status.idle": "2022-06-24T18:55:01.275153Z",
     "shell.execute_reply": "2022-06-24T18:55:01.273990Z"
    },
    "papermill": {
     "duration": 0.054454,
     "end_time": "2022-06-24T18:55:01.277959",
     "exception": false,
     "start_time": "2022-06-24T18:55:01.223505",
     "status": "completed"
    },
    "tags": []
   },
   "outputs": [
    {
     "name": "stdout",
     "output_type": "stream",
     "text": [
      "(383842, 7)\n"
     ]
    }
   ],
   "source": [
    "print(new_book_df.shape)"
   ]
  },
  {
   "cell_type": "code",
   "execution_count": 58,
   "id": "50428233",
   "metadata": {
    "execution": {
     "iopub.execute_input": "2022-06-24T18:55:01.374566Z",
     "iopub.status.busy": "2022-06-24T18:55:01.373846Z",
     "iopub.status.idle": "2022-06-24T18:55:01.419778Z",
     "shell.execute_reply": "2022-06-24T18:55:01.418717Z"
    },
    "papermill": {
     "duration": 0.09644,
     "end_time": "2022-06-24T18:55:01.421997",
     "exception": false,
     "start_time": "2022-06-24T18:55:01.325557",
     "status": "completed"
    },
    "tags": []
   },
   "outputs": [
    {
     "data": {
      "text/plain": [
       "383842"
      ]
     },
     "execution_count": 58,
     "metadata": {},
     "output_type": "execute_result"
    }
   ],
   "source": [
    "new_book_df['book_title'].count()"
   ]
  },
  {
   "cell_type": "code",
   "execution_count": 59,
   "id": "e4c28487",
   "metadata": {
    "execution": {
     "iopub.execute_input": "2022-06-24T18:55:01.515304Z",
     "iopub.status.busy": "2022-06-24T18:55:01.514138Z",
     "iopub.status.idle": "2022-06-24T18:55:01.607184Z",
     "shell.execute_reply": "2022-06-24T18:55:01.606053Z"
    },
    "papermill": {
     "duration": 0.14341,
     "end_time": "2022-06-24T18:55:01.609879",
     "exception": false,
     "start_time": "2022-06-24T18:55:01.466469",
     "status": "completed"
    },
    "tags": []
   },
   "outputs": [
    {
     "data": {
      "text/plain": [
       "135567"
      ]
     },
     "execution_count": 59,
     "metadata": {},
     "output_type": "execute_result"
    }
   ],
   "source": [
    "new_book_df['book_title'].nunique()"
   ]
  },
  {
   "cell_type": "markdown",
   "id": "115afdfb",
   "metadata": {
    "papermill": {
     "duration": 0.044165,
     "end_time": "2022-06-24T18:55:01.699149",
     "exception": false,
     "start_time": "2022-06-24T18:55:01.654984",
     "status": "completed"
    },
    "tags": []
   },
   "source": [
    "So we've 135567 number of unique values in book_title columns."
   ]
  },
  {
   "cell_type": "markdown",
   "id": "b277cc84",
   "metadata": {
    "papermill": {
     "duration": 0.044334,
     "end_time": "2022-06-24T18:55:01.788376",
     "exception": false,
     "start_time": "2022-06-24T18:55:01.744042",
     "status": "completed"
    },
    "tags": []
   },
   "source": [
    "## Let's take top 10 recommendation books"
   ]
  },
  {
   "cell_type": "code",
   "execution_count": 60,
   "id": "9f9d7f0f",
   "metadata": {
    "execution": {
     "iopub.execute_input": "2022-06-24T18:55:01.880694Z",
     "iopub.status.busy": "2022-06-24T18:55:01.880039Z",
     "iopub.status.idle": "2022-06-24T18:55:02.269485Z",
     "shell.execute_reply": "2022-06-24T18:55:02.268162Z"
    },
    "papermill": {
     "duration": 0.438835,
     "end_time": "2022-06-24T18:55:02.272187",
     "exception": false,
     "start_time": "2022-06-24T18:55:01.833352",
     "status": "completed"
    },
    "tags": []
   },
   "outputs": [
    {
     "name": "stdout",
     "output_type": "stream",
     "text": [
      "The top ten books as per recommendation : \n"
     ]
    },
    {
     "data": {
      "text/html": [
       "<div>\n",
       "<style scoped>\n",
       "    .dataframe tbody tr th:only-of-type {\n",
       "        vertical-align: middle;\n",
       "    }\n",
       "\n",
       "    .dataframe tbody tr th {\n",
       "        vertical-align: top;\n",
       "    }\n",
       "\n",
       "    .dataframe thead th {\n",
       "        text-align: right;\n",
       "    }\n",
       "</style>\n",
       "<table border=\"1\" class=\"dataframe\">\n",
       "  <thead>\n",
       "    <tr style=\"text-align: right;\">\n",
       "      <th></th>\n",
       "      <th>book_rating</th>\n",
       "    </tr>\n",
       "    <tr>\n",
       "      <th>book_title</th>\n",
       "      <th></th>\n",
       "    </tr>\n",
       "  </thead>\n",
       "  <tbody>\n",
       "    <tr>\n",
       "      <th>The Lovely Bones: A Novel</th>\n",
       "      <td>707</td>\n",
       "    </tr>\n",
       "    <tr>\n",
       "      <th>Wild Animus</th>\n",
       "      <td>581</td>\n",
       "    </tr>\n",
       "    <tr>\n",
       "      <th>The Da Vinci Code</th>\n",
       "      <td>494</td>\n",
       "    </tr>\n",
       "    <tr>\n",
       "      <th>The Secret Life of Bees</th>\n",
       "      <td>406</td>\n",
       "    </tr>\n",
       "    <tr>\n",
       "      <th>The Nanny Diaries: A Novel</th>\n",
       "      <td>393</td>\n",
       "    </tr>\n",
       "    <tr>\n",
       "      <th>The Red Tent (Bestselling Backlist)</th>\n",
       "      <td>383</td>\n",
       "    </tr>\n",
       "    <tr>\n",
       "      <th>Bridget Jones's Diary</th>\n",
       "      <td>377</td>\n",
       "    </tr>\n",
       "    <tr>\n",
       "      <th>A Painted House</th>\n",
       "      <td>366</td>\n",
       "    </tr>\n",
       "    <tr>\n",
       "      <th>Life of Pi</th>\n",
       "      <td>336</td>\n",
       "    </tr>\n",
       "    <tr>\n",
       "      <th>Harry Potter and the Chamber of Secrets (Book 2)</th>\n",
       "      <td>326</td>\n",
       "    </tr>\n",
       "  </tbody>\n",
       "</table>\n",
       "</div>"
      ],
      "text/plain": [
       "                                                  book_rating\n",
       "book_title                                                   \n",
       "The Lovely Bones: A Novel                         707        \n",
       "Wild Animus                                       581        \n",
       "The Da Vinci Code                                 494        \n",
       "The Secret Life of Bees                           406        \n",
       "The Nanny Diaries: A Novel                        393        \n",
       "The Red Tent (Bestselling Backlist)               383        \n",
       "Bridget Jones's Diary                             377        \n",
       "A Painted House                                   366        \n",
       "Life of Pi                                        336        \n",
       "Harry Potter and the Chamber of Secrets (Book 2)  326        "
      ]
     },
     "execution_count": 60,
     "metadata": {},
     "output_type": "execute_result"
    }
   ],
   "source": [
    "# top ten books as per book ratings and recommendation\n",
    "top_ten_books= pd.DataFrame(new_book_df.groupby('book_title')['book_rating'].count()\n",
    "                         .sort_values(ascending=False).head(10))\n",
    "print('The top ten books as per recommendation : ')\n",
    "top_ten_books"
   ]
  },
  {
   "cell_type": "markdown",
   "id": "5347e9b2",
   "metadata": {
    "papermill": {
     "duration": 0.044905,
     "end_time": "2022-06-24T18:55:02.361670",
     "exception": false,
     "start_time": "2022-06-24T18:55:02.316765",
     "status": "completed"
    },
    "tags": []
   },
   "source": [
    "The above are the top 10 books recommendation as per ratings. "
   ]
  },
  {
   "cell_type": "markdown",
   "id": "0f6ba036",
   "metadata": {
    "papermill": {
     "duration": 0.043736,
     "end_time": "2022-06-24T18:55:02.450518",
     "exception": false,
     "start_time": "2022-06-24T18:55:02.406782",
     "status": "completed"
    },
    "tags": []
   },
   "source": [
    "# Memory-Based Collaborative Filtering\n",
    "\n",
    "This approach uses the memory of previous users interactions to compute users similarities based on items they've interacted (user-based approach) or compute items similarities based on the users that have interacted with them (item-based approach).\n"
   ]
  },
  {
   "cell_type": "markdown",
   "id": "5cce9dec",
   "metadata": {
    "papermill": {
     "duration": 0.044972,
     "end_time": "2022-06-24T18:55:02.540382",
     "exception": false,
     "start_time": "2022-06-24T18:55:02.495410",
     "status": "completed"
    },
    "tags": []
   },
   "source": [
    "## Train - Test Split"
   ]
  },
  {
   "cell_type": "code",
   "execution_count": 61,
   "id": "26e1a88c",
   "metadata": {
    "execution": {
     "iopub.execute_input": "2022-06-24T18:55:02.633276Z",
     "iopub.status.busy": "2022-06-24T18:55:02.632902Z",
     "iopub.status.idle": "2022-06-24T18:55:02.890816Z",
     "shell.execute_reply": "2022-06-24T18:55:02.889636Z"
    },
    "papermill": {
     "duration": 0.307622,
     "end_time": "2022-06-24T18:55:02.893510",
     "exception": false,
     "start_time": "2022-06-24T18:55:02.585888",
     "status": "completed"
    },
    "tags": []
   },
   "outputs": [],
   "source": [
    "from sklearn import model_selection\n",
    "train_data, test_data = model_selection.train_test_split(new_book_df, test_size=0.20)"
   ]
  },
  {
   "cell_type": "code",
   "execution_count": 62,
   "id": "bf152dce",
   "metadata": {
    "execution": {
     "iopub.execute_input": "2022-06-24T18:55:02.983799Z",
     "iopub.status.busy": "2022-06-24T18:55:02.983300Z",
     "iopub.status.idle": "2022-06-24T18:55:02.989980Z",
     "shell.execute_reply": "2022-06-24T18:55:02.988794Z"
    },
    "papermill": {
     "duration": 0.055795,
     "end_time": "2022-06-24T18:55:02.993449",
     "exception": false,
     "start_time": "2022-06-24T18:55:02.937654",
     "status": "completed"
    },
    "tags": []
   },
   "outputs": [
    {
     "name": "stdout",
     "output_type": "stream",
     "text": [
      "Training set lengths: 307073\n",
      "Testing set lengths: 76769\n",
      "Test set is 20% of the full dataset.\n"
     ]
    }
   ],
   "source": [
    "print(f'Training set lengths: {len(train_data)}')\n",
    "print(f'Testing set lengths: {len(test_data)}')\n",
    "print(f'Test set is {(len(test_data)/(len(train_data)+len(test_data))*100):.0f}% of the full dataset.')"
   ]
  },
  {
   "cell_type": "code",
   "execution_count": 63,
   "id": "f2238a5a",
   "metadata": {
    "execution": {
     "iopub.execute_input": "2022-06-24T18:55:03.083774Z",
     "iopub.status.busy": "2022-06-24T18:55:03.083039Z",
     "iopub.status.idle": "2022-06-24T18:55:03.249634Z",
     "shell.execute_reply": "2022-06-24T18:55:03.248577Z"
    },
    "papermill": {
     "duration": 0.214542,
     "end_time": "2022-06-24T18:55:03.252293",
     "exception": false,
     "start_time": "2022-06-24T18:55:03.037751",
     "status": "completed"
    },
    "tags": []
   },
   "outputs": [],
   "source": [
    "# Get int mapping for user_id in train dataset\n",
    "u_unique_train = train_data.user_id.unique()  \n",
    "train_data_user2idx = {o:i for i, o in enumerate(u_unique_train)}\n",
    "\n",
    "# Get int mapping for isbn in train dataset\n",
    "i_unique_train = train_data.isbn.unique()  \n",
    "train_data_book2idx = {o:i for i, o in enumerate(i_unique_train)}"
   ]
  },
  {
   "cell_type": "code",
   "execution_count": 64,
   "id": "42665db0",
   "metadata": {
    "execution": {
     "iopub.execute_input": "2022-06-24T18:55:03.343579Z",
     "iopub.status.busy": "2022-06-24T18:55:03.342433Z",
     "iopub.status.idle": "2022-06-24T18:55:03.391444Z",
     "shell.execute_reply": "2022-06-24T18:55:03.390231Z"
    },
    "papermill": {
     "duration": 0.097139,
     "end_time": "2022-06-24T18:55:03.394075",
     "exception": false,
     "start_time": "2022-06-24T18:55:03.296936",
     "status": "completed"
    },
    "tags": []
   },
   "outputs": [],
   "source": [
    "# Get int mapping for user_id in test dataset\n",
    "u_unique_test = test_data.user_id.unique()  \n",
    "test_data_user2idx = {o:i for i, o in enumerate(u_unique_test)}\n",
    "\n",
    "# Get int mapping for isbn in test dataset\n",
    "i_unique_test = test_data.isbn.unique() \n",
    "test_data_book2idx = {o:i for i, o in enumerate(i_unique_test)}"
   ]
  },
  {
   "cell_type": "code",
   "execution_count": 65,
   "id": "43346df6",
   "metadata": {
    "execution": {
     "iopub.execute_input": "2022-06-24T18:55:03.484986Z",
     "iopub.status.busy": "2022-06-24T18:55:03.484447Z",
     "iopub.status.idle": "2022-06-24T18:55:03.825292Z",
     "shell.execute_reply": "2022-06-24T18:55:03.824190Z"
    },
    "papermill": {
     "duration": 0.389073,
     "end_time": "2022-06-24T18:55:03.827934",
     "exception": false,
     "start_time": "2022-06-24T18:55:03.438861",
     "status": "completed"
    },
    "tags": []
   },
   "outputs": [],
   "source": [
    "# training set\n",
    "train_data['u_unique'] = train_data['user_id'].map(train_data_user2idx)\n",
    "train_data['i_unique'] = train_data['isbn'].map(train_data_book2idx)\n",
    "\n",
    "# testing set\n",
    "test_data['u_unique'] = test_data['user_id'].map(test_data_user2idx)\n",
    "test_data['i_unique'] = test_data['isbn'].map(test_data_book2idx)\n",
    "\n",
    "# Convert back to three feature of dataframe \n",
    "train_data = train_data[['u_unique', 'i_unique', 'book_rating']]\n",
    "test_data = test_data[['u_unique', 'i_unique', 'book_rating']]"
   ]
  },
  {
   "cell_type": "code",
   "execution_count": 66,
   "id": "515bf384",
   "metadata": {
    "execution": {
     "iopub.execute_input": "2022-06-24T18:55:03.917586Z",
     "iopub.status.busy": "2022-06-24T18:55:03.916967Z",
     "iopub.status.idle": "2022-06-24T18:55:03.935966Z",
     "shell.execute_reply": "2022-06-24T18:55:03.934909Z"
    },
    "papermill": {
     "duration": 0.066166,
     "end_time": "2022-06-24T18:55:03.938081",
     "exception": false,
     "start_time": "2022-06-24T18:55:03.871915",
     "status": "completed"
    },
    "tags": []
   },
   "outputs": [
    {
     "data": {
      "text/html": [
       "<div>\n",
       "<style scoped>\n",
       "    .dataframe tbody tr th:only-of-type {\n",
       "        vertical-align: middle;\n",
       "    }\n",
       "\n",
       "    .dataframe tbody tr th {\n",
       "        vertical-align: top;\n",
       "    }\n",
       "\n",
       "    .dataframe thead th {\n",
       "        text-align: right;\n",
       "    }\n",
       "</style>\n",
       "<table border=\"1\" class=\"dataframe\">\n",
       "  <thead>\n",
       "    <tr style=\"text-align: right;\">\n",
       "      <th></th>\n",
       "      <th>u_unique</th>\n",
       "      <th>i_unique</th>\n",
       "      <th>book_rating</th>\n",
       "    </tr>\n",
       "  </thead>\n",
       "  <tbody>\n",
       "    <tr>\n",
       "      <th>361469</th>\n",
       "      <td>336</td>\n",
       "      <td>102741</td>\n",
       "      <td>8</td>\n",
       "    </tr>\n",
       "    <tr>\n",
       "      <th>221382</th>\n",
       "      <td>24319</td>\n",
       "      <td>43141</td>\n",
       "      <td>9</td>\n",
       "    </tr>\n",
       "    <tr>\n",
       "      <th>115762</th>\n",
       "      <td>4362</td>\n",
       "      <td>45934</td>\n",
       "      <td>10</td>\n",
       "    </tr>\n",
       "    <tr>\n",
       "      <th>347543</th>\n",
       "      <td>39405</td>\n",
       "      <td>77438</td>\n",
       "      <td>9</td>\n",
       "    </tr>\n",
       "    <tr>\n",
       "      <th>89769</th>\n",
       "      <td>41374</td>\n",
       "      <td>21963</td>\n",
       "      <td>7</td>\n",
       "    </tr>\n",
       "  </tbody>\n",
       "</table>\n",
       "</div>"
      ],
      "text/plain": [
       "        u_unique  i_unique  book_rating\n",
       "361469  336       102741    8          \n",
       "221382  24319     43141     9          \n",
       "115762  4362      45934     10         \n",
       "347543  39405     77438     9          \n",
       "89769   41374     21963     7          "
      ]
     },
     "execution_count": 66,
     "metadata": {},
     "output_type": "execute_result"
    }
   ],
   "source": [
    "train_data.sample(5)"
   ]
  },
  {
   "cell_type": "code",
   "execution_count": 67,
   "id": "cce062fa",
   "metadata": {
    "execution": {
     "iopub.execute_input": "2022-06-24T18:55:04.030687Z",
     "iopub.status.busy": "2022-06-24T18:55:04.030109Z",
     "iopub.status.idle": "2022-06-24T18:55:04.042024Z",
     "shell.execute_reply": "2022-06-24T18:55:04.041005Z"
    },
    "papermill": {
     "duration": 0.061027,
     "end_time": "2022-06-24T18:55:04.044183",
     "exception": false,
     "start_time": "2022-06-24T18:55:03.983156",
     "status": "completed"
    },
    "tags": []
   },
   "outputs": [
    {
     "data": {
      "text/html": [
       "<div>\n",
       "<style scoped>\n",
       "    .dataframe tbody tr th:only-of-type {\n",
       "        vertical-align: middle;\n",
       "    }\n",
       "\n",
       "    .dataframe tbody tr th {\n",
       "        vertical-align: top;\n",
       "    }\n",
       "\n",
       "    .dataframe thead th {\n",
       "        text-align: right;\n",
       "    }\n",
       "</style>\n",
       "<table border=\"1\" class=\"dataframe\">\n",
       "  <thead>\n",
       "    <tr style=\"text-align: right;\">\n",
       "      <th></th>\n",
       "      <th>u_unique</th>\n",
       "      <th>i_unique</th>\n",
       "      <th>book_rating</th>\n",
       "    </tr>\n",
       "  </thead>\n",
       "  <tbody>\n",
       "    <tr>\n",
       "      <th>334459</th>\n",
       "      <td>1902</td>\n",
       "      <td>21639</td>\n",
       "      <td>8</td>\n",
       "    </tr>\n",
       "    <tr>\n",
       "      <th>269054</th>\n",
       "      <td>3940</td>\n",
       "      <td>5013</td>\n",
       "      <td>7</td>\n",
       "    </tr>\n",
       "    <tr>\n",
       "      <th>20078</th>\n",
       "      <td>711</td>\n",
       "      <td>2512</td>\n",
       "      <td>8</td>\n",
       "    </tr>\n",
       "    <tr>\n",
       "      <th>181568</th>\n",
       "      <td>6037</td>\n",
       "      <td>8093</td>\n",
       "      <td>5</td>\n",
       "    </tr>\n",
       "    <tr>\n",
       "      <th>60527</th>\n",
       "      <td>15570</td>\n",
       "      <td>4265</td>\n",
       "      <td>7</td>\n",
       "    </tr>\n",
       "  </tbody>\n",
       "</table>\n",
       "</div>"
      ],
      "text/plain": [
       "        u_unique  i_unique  book_rating\n",
       "334459  1902      21639     8          \n",
       "269054  3940      5013      7          \n",
       "20078   711       2512      8          \n",
       "181568  6037      8093      5          \n",
       "60527   15570     4265      7          "
      ]
     },
     "execution_count": 67,
     "metadata": {},
     "output_type": "execute_result"
    }
   ],
   "source": [
    "test_data.sample(5)"
   ]
  },
  {
   "cell_type": "markdown",
   "id": "e83c5c92",
   "metadata": {
    "papermill": {
     "duration": 0.043837,
     "end_time": "2022-06-24T18:55:04.132327",
     "exception": false,
     "start_time": "2022-06-24T18:55:04.088490",
     "status": "completed"
    },
    "tags": []
   },
   "source": []
  },
  {
   "cell_type": "markdown",
   "id": "8463914e",
   "metadata": {
    "papermill": {
     "duration": 0.043927,
     "end_time": "2022-06-24T18:55:04.220827",
     "exception": false,
     "start_time": "2022-06-24T18:55:04.176900",
     "status": "completed"
    },
    "tags": []
   },
   "source": [
    "## User-Item for Train Data"
   ]
  },
  {
   "cell_type": "code",
   "execution_count": 68,
   "id": "7419e971",
   "metadata": {
    "execution": {
     "iopub.execute_input": "2022-06-24T18:55:04.313815Z",
     "iopub.status.busy": "2022-06-24T18:55:04.313216Z",
     "iopub.status.idle": "2022-06-24T18:55:05.727192Z",
     "shell.execute_reply": "2022-06-24T18:55:05.726398Z"
    },
    "papermill": {
     "duration": 1.463015,
     "end_time": "2022-06-24T18:55:05.729769",
     "exception": false,
     "start_time": "2022-06-24T18:55:04.266754",
     "status": "completed"
    },
    "tags": []
   },
   "outputs": [],
   "source": [
    "# first I'll create an empty matrix of users books and then I'll add the appropriate values to the matrix by extracting them from the dataset\n",
    "n_users = train_data['u_unique'].nunique()\n",
    "n_books = train_data['i_unique'].nunique()\n",
    "\n",
    "train_matrix = np.zeros((n_users, n_books))\n",
    "\n",
    "for entry in train_data.itertuples():                  \n",
    "    train_matrix[entry[1]-1, entry[2]-1] = entry[3]    # entry[1] is the user-id, entry[2] is the book-isbn and -1 is to counter 0-based indexing"
   ]
  },
  {
   "cell_type": "code",
   "execution_count": 69,
   "id": "dffc1a86",
   "metadata": {
    "execution": {
     "iopub.execute_input": "2022-06-24T18:55:05.826909Z",
     "iopub.status.busy": "2022-06-24T18:55:05.826229Z",
     "iopub.status.idle": "2022-06-24T18:55:05.831855Z",
     "shell.execute_reply": "2022-06-24T18:55:05.831170Z"
    },
    "papermill": {
     "duration": 0.056575,
     "end_time": "2022-06-24T18:55:05.833736",
     "exception": false,
     "start_time": "2022-06-24T18:55:05.777161",
     "status": "completed"
    },
    "tags": []
   },
   "outputs": [
    {
     "data": {
      "text/plain": [
       "(59806, 128928)"
      ]
     },
     "execution_count": 69,
     "metadata": {},
     "output_type": "execute_result"
    }
   ],
   "source": [
    "train_matrix.shape"
   ]
  },
  {
   "cell_type": "markdown",
   "id": "c6d8ad50",
   "metadata": {
    "papermill": {
     "duration": 0.046083,
     "end_time": "2022-06-24T18:55:05.926166",
     "exception": false,
     "start_time": "2022-06-24T18:55:05.880083",
     "status": "completed"
    },
    "tags": []
   },
   "source": [
    "## User-Item for Test Data"
   ]
  },
  {
   "cell_type": "code",
   "execution_count": 70,
   "id": "bf5b7bee",
   "metadata": {
    "execution": {
     "iopub.execute_input": "2022-06-24T18:55:06.022407Z",
     "iopub.status.busy": "2022-06-24T18:55:06.021767Z",
     "iopub.status.idle": "2022-06-24T18:55:06.379682Z",
     "shell.execute_reply": "2022-06-24T18:55:06.378817Z"
    },
    "papermill": {
     "duration": 0.409212,
     "end_time": "2022-06-24T18:55:06.382337",
     "exception": false,
     "start_time": "2022-06-24T18:55:05.973125",
     "status": "completed"
    },
    "tags": []
   },
   "outputs": [],
   "source": [
    "n_users = test_data['u_unique'].nunique()\n",
    "n_books = test_data['i_unique'].nunique()\n",
    "\n",
    "test_matrix = np.zeros((n_users, n_books))\n",
    "\n",
    "for entry in test_data.itertuples():\n",
    "    test_matrix[entry[1]-1, entry[2]-1] = entry[3] "
   ]
  },
  {
   "cell_type": "code",
   "execution_count": 71,
   "id": "1c64d9db",
   "metadata": {
    "execution": {
     "iopub.execute_input": "2022-06-24T18:55:06.479149Z",
     "iopub.status.busy": "2022-06-24T18:55:06.478563Z",
     "iopub.status.idle": "2022-06-24T18:55:06.484147Z",
     "shell.execute_reply": "2022-06-24T18:55:06.483188Z"
    },
    "papermill": {
     "duration": 0.056784,
     "end_time": "2022-06-24T18:55:06.486338",
     "exception": false,
     "start_time": "2022-06-24T18:55:06.429554",
     "status": "completed"
    },
    "tags": []
   },
   "outputs": [
    {
     "data": {
      "text/plain": [
       "(26058, 46774)"
      ]
     },
     "execution_count": 71,
     "metadata": {},
     "output_type": "execute_result"
    }
   ],
   "source": [
    "test_matrix.shape"
   ]
  },
  {
   "cell_type": "markdown",
   "id": "7afa4fa8",
   "metadata": {
    "papermill": {
     "duration": 0.046846,
     "end_time": "2022-06-24T18:55:06.579519",
     "exception": false,
     "start_time": "2022-06-24T18:55:06.532673",
     "status": "completed"
    },
    "tags": []
   },
   "source": [
    "## Cosine Similarity Based Recommendation System"
   ]
  },
  {
   "cell_type": "markdown",
   "id": "820b6338",
   "metadata": {
    "papermill": {
     "duration": 0.047636,
     "end_time": "2022-06-24T18:55:06.674751",
     "exception": false,
     "start_time": "2022-06-24T18:55:06.627115",
     "status": "completed"
    },
    "tags": []
   },
   "source": [
    "A distance metric commonly used in recommender systems is cosine similarity, where the ratings are seen as vectors in n-dimensional space and the similarity is calculated based on the angle between these vectors.\n"
   ]
  },
  {
   "cell_type": "code",
   "execution_count": 72,
   "id": "71190b1a",
   "metadata": {
    "execution": {
     "iopub.execute_input": "2022-06-24T18:55:06.771721Z",
     "iopub.status.busy": "2022-06-24T18:55:06.770925Z",
     "iopub.status.idle": "2022-06-24T18:55:12.003837Z",
     "shell.execute_reply": "2022-06-24T18:55:12.002575Z"
    },
    "papermill": {
     "duration": 5.284508,
     "end_time": "2022-06-24T18:55:12.006940",
     "exception": false,
     "start_time": "2022-06-24T18:55:06.722432",
     "status": "completed"
    },
    "tags": []
   },
   "outputs": [],
   "source": [
    "# To make item-item similarity we need to take the transpose of the matrix\n",
    "train_matrix_small = train_matrix[:5000, :5000]\n",
    "test_matrix_small = test_matrix[:5000, :5000]\n",
    "\n",
    "from sklearn.metrics.pairwise import pairwise_distances\n",
    "user_similarity = pairwise_distances(train_matrix_small, metric='cosine')\n",
    "item_similarity = pairwise_distances(train_matrix_small.T, metric='cosine')"
   ]
  },
  {
   "cell_type": "code",
   "execution_count": 73,
   "id": "a7994a16",
   "metadata": {
    "execution": {
     "iopub.execute_input": "2022-06-24T18:55:12.104068Z",
     "iopub.status.busy": "2022-06-24T18:55:12.103621Z",
     "iopub.status.idle": "2022-06-24T18:55:12.111937Z",
     "shell.execute_reply": "2022-06-24T18:55:12.110595Z"
    },
    "papermill": {
     "duration": 0.059052,
     "end_time": "2022-06-24T18:55:12.114189",
     "exception": false,
     "start_time": "2022-06-24T18:55:12.055137",
     "status": "completed"
    },
    "tags": []
   },
   "outputs": [],
   "source": [
    "# function to predict the similarity :\n",
    "def predict_books(ratings, similarity, type='user'): # default type is 'user'\n",
    "    if type == 'user':\n",
    "        mean_user_rating = ratings.mean(axis=1)\n",
    "        \n",
    "        # Use np.newaxis so that mean_user_rating has the same format as ratings\n",
    "        ratings_diff = (ratings - mean_user_rating[:, np.newaxis])\n",
    "        pred = mean_user_rating[:, np.newaxis] + similarity.dot(ratings_diff) / np.array([np.abs(similarity).sum(axis=1)]).T\n",
    "    elif type == 'item':\n",
    "        pred = ratings.dot(similarity) / np.array([np.abs(similarity).sum(axis=1)])\n",
    "    return pred"
   ]
  },
  {
   "cell_type": "code",
   "execution_count": 74,
   "id": "6f82df62",
   "metadata": {
    "execution": {
     "iopub.execute_input": "2022-06-24T18:55:12.211394Z",
     "iopub.status.busy": "2022-06-24T18:55:12.210924Z",
     "iopub.status.idle": "2022-06-24T18:55:20.365037Z",
     "shell.execute_reply": "2022-06-24T18:55:20.363972Z"
    },
    "papermill": {
     "duration": 8.205836,
     "end_time": "2022-06-24T18:55:20.367755",
     "exception": false,
     "start_time": "2022-06-24T18:55:12.161919",
     "status": "completed"
    },
    "tags": []
   },
   "outputs": [],
   "source": [
    "item_prediction = predict_books(train_matrix_small, item_similarity, type='item')\n",
    "user_prediction = predict_books(train_matrix_small, user_similarity, type='user')"
   ]
  },
  {
   "cell_type": "markdown",
   "id": "bfe059bd",
   "metadata": {
    "papermill": {
     "duration": 0.046465,
     "end_time": "2022-06-24T18:55:20.461852",
     "exception": false,
     "start_time": "2022-06-24T18:55:20.415387",
     "status": "completed"
    },
    "tags": []
   },
   "source": [
    "## Evaluation Metric"
   ]
  },
  {
   "cell_type": "code",
   "execution_count": 75,
   "id": "bf0a134a",
   "metadata": {
    "execution": {
     "iopub.execute_input": "2022-06-24T18:55:20.558526Z",
     "iopub.status.busy": "2022-06-24T18:55:20.557449Z",
     "iopub.status.idle": "2022-06-24T18:55:21.359063Z",
     "shell.execute_reply": "2022-06-24T18:55:21.357696Z"
    },
    "papermill": {
     "duration": 0.852237,
     "end_time": "2022-06-24T18:55:21.361406",
     "exception": false,
     "start_time": "2022-06-24T18:55:20.509169",
     "status": "completed"
    },
    "tags": []
   },
   "outputs": [
    {
     "name": "stdout",
     "output_type": "stream",
     "text": [
      "Item-based CF RMSE: 7.9878576607496266\n",
      "User-based CF RMSE: 7.987301390893358\n"
     ]
    }
   ],
   "source": [
    "# Evaluation metric by mean squared error\n",
    "from sklearn.metrics import mean_squared_error\n",
    "from math import sqrt\n",
    "\n",
    "def rmse(prediction, test_matrix):\n",
    "    prediction = prediction[test_matrix.nonzero()].flatten()\n",
    "    test_matrix = test_matrix[test_matrix.nonzero()].flatten()\n",
    "    return sqrt(mean_squared_error(prediction, test_matrix))\n",
    "\n",
    "print(f'Item-based CF RMSE: {rmse(item_prediction, test_matrix_small)}')\n",
    "print(f'User-based CF RMSE: {rmse(user_prediction, test_matrix_small)}')"
   ]
  },
  {
   "cell_type": "markdown",
   "id": "5afd6c40",
   "metadata": {
    "papermill": {
     "duration": 0.065479,
     "end_time": "2022-06-24T18:55:21.483484",
     "exception": false,
     "start_time": "2022-06-24T18:55:21.418005",
     "status": "completed"
    },
    "tags": []
   },
   "source": [
    "By cosine similarity in recommendation system it gives 7.95 RMSE score. "
   ]
  },
  {
   "cell_type": "markdown",
   "id": "e788f44a",
   "metadata": {
    "papermill": {
     "duration": 0.047908,
     "end_time": "2022-06-24T18:55:21.580449",
     "exception": false,
     "start_time": "2022-06-24T18:55:21.532541",
     "status": "completed"
    },
    "tags": []
   },
   "source": [
    "We can make improvement in this score by using another method. Let's use Single Value Decomposition model (SVD) model to implement. "
   ]
  },
  {
   "cell_type": "markdown",
   "id": "883b822e",
   "metadata": {
    "papermill": {
     "duration": 0.047272,
     "end_time": "2022-06-24T18:55:21.675908",
     "exception": false,
     "start_time": "2022-06-24T18:55:21.628636",
     "status": "completed"
    },
    "tags": []
   },
   "source": [
    "## Let's go through Model based approach by SVD model."
   ]
  },
  {
   "cell_type": "code",
   "execution_count": 76,
   "id": "f9a149b7",
   "metadata": {
    "execution": {
     "iopub.execute_input": "2022-06-24T18:55:21.778245Z",
     "iopub.status.busy": "2022-06-24T18:55:21.777803Z",
     "iopub.status.idle": "2022-06-24T18:55:21.828971Z",
     "shell.execute_reply": "2022-06-24T18:55:21.827832Z"
    },
    "papermill": {
     "duration": 0.107955,
     "end_time": "2022-06-24T18:55:21.832090",
     "exception": false,
     "start_time": "2022-06-24T18:55:21.724135",
     "status": "completed"
    },
    "tags": []
   },
   "outputs": [],
   "source": [
    "from surprise import Reader, Dataset"
   ]
  },
  {
   "cell_type": "code",
   "execution_count": 77,
   "id": "7db681d3",
   "metadata": {
    "execution": {
     "iopub.execute_input": "2022-06-24T18:55:21.927921Z",
     "iopub.status.busy": "2022-06-24T18:55:21.927173Z",
     "iopub.status.idle": "2022-06-24T18:55:22.539759Z",
     "shell.execute_reply": "2022-06-24T18:55:22.538518Z"
    },
    "papermill": {
     "duration": 0.663566,
     "end_time": "2022-06-24T18:55:22.542410",
     "exception": false,
     "start_time": "2022-06-24T18:55:21.878844",
     "status": "completed"
    },
    "tags": []
   },
   "outputs": [],
   "source": [
    "# Creating a 'Reader' object to set the limit of the ratings \n",
    "reader = Reader(rating_scale=(1, 10))\n",
    "data = Dataset.load_from_df(ratings_explicit, reader)"
   ]
  },
  {
   "cell_type": "code",
   "execution_count": 78,
   "id": "fca1abc7",
   "metadata": {
    "execution": {
     "iopub.execute_input": "2022-06-24T18:55:22.639286Z",
     "iopub.status.busy": "2022-06-24T18:55:22.638897Z",
     "iopub.status.idle": "2022-06-24T18:58:23.910769Z",
     "shell.execute_reply": "2022-06-24T18:58:23.909644Z"
    },
    "papermill": {
     "duration": 181.37241,
     "end_time": "2022-06-24T18:58:23.961875",
     "exception": false,
     "start_time": "2022-06-24T18:55:22.589465",
     "status": "completed"
    },
    "tags": []
   },
   "outputs": [
    {
     "name": "stdout",
     "output_type": "stream",
     "text": [
      "Evaluating RMSE of algorithm SVD on 5 split(s).\n",
      "\n",
      "                  Fold 1  Fold 2  Fold 3  Fold 4  Fold 5  Mean    Std     \n",
      "RMSE (testset)    1.6374  1.6397  1.6433  1.6311  1.6301  1.6363  0.0051  \n",
      "Fit time          32.76   33.44   33.33   33.37   33.03   33.19   0.25    \n",
      "Test time         1.01    0.99    1.33    1.36    1.35    1.21    0.17    \n",
      "CPU times: user 3min, sys: 462 ms, total: 3min 1s\n",
      "Wall time: 3min 1s\n"
     ]
    },
    {
     "data": {
      "text/plain": [
       "{'test_rmse': array([1.63742732, 1.63969085, 1.64330104, 1.63105846, 1.63006922]),\n",
       " 'fit_time': (32.76408839225769,\n",
       "  33.43917894363403,\n",
       "  33.33129096031189,\n",
       "  33.37437987327576,\n",
       "  33.03330850601196),\n",
       " 'test_time': (1.011711597442627,\n",
       "  0.994098424911499,\n",
       "  1.3264305591583252,\n",
       "  1.357043743133545,\n",
       "  1.354851245880127)}"
      ]
     },
     "execution_count": 78,
     "metadata": {},
     "output_type": "execute_result"
    }
   ],
   "source": [
    "from surprise import SVD, model_selection, accuracy\n",
    "model = SVD()\n",
    "\n",
    "# Train on books dataset\n",
    "%time model_selection.cross_validate(model, data, measures=['RMSE'], cv=5, verbose=True)"
   ]
  },
  {
   "cell_type": "markdown",
   "id": "c793b202",
   "metadata": {
    "papermill": {
     "duration": 0.045047,
     "end_time": "2022-06-24T18:58:24.053032",
     "exception": false,
     "start_time": "2022-06-24T18:58:24.007985",
     "status": "completed"
    },
    "tags": []
   },
   "source": [
    "## Train - Test Split"
   ]
  },
  {
   "cell_type": "code",
   "execution_count": 79,
   "id": "ce420248",
   "metadata": {
    "execution": {
     "iopub.execute_input": "2022-06-24T18:58:24.149244Z",
     "iopub.status.busy": "2022-06-24T18:58:24.148775Z",
     "iopub.status.idle": "2022-06-24T18:58:58.591177Z",
     "shell.execute_reply": "2022-06-24T18:58:58.590057Z"
    },
    "papermill": {
     "duration": 34.541294,
     "end_time": "2022-06-24T18:58:58.641196",
     "exception": false,
     "start_time": "2022-06-24T18:58:24.099902",
     "status": "completed"
    },
    "tags": []
   },
   "outputs": [
    {
     "data": {
      "text/plain": [
       "<surprise.prediction_algorithms.matrix_factorization.SVD at 0x7fcf6eb6a3d0>"
      ]
     },
     "execution_count": 79,
     "metadata": {},
     "output_type": "execute_result"
    }
   ],
   "source": [
    "# train and test split\n",
    "trainset, testset = model_selection.train_test_split(data, test_size=0.2)\n",
    "\n",
    "# SVD model\n",
    "model = SVD()\n",
    "model.fit(trainset)"
   ]
  },
  {
   "cell_type": "markdown",
   "id": "da7ccdfa",
   "metadata": {
    "papermill": {
     "duration": 0.04807,
     "end_time": "2022-06-24T18:58:58.736299",
     "exception": false,
     "start_time": "2022-06-24T18:58:58.688229",
     "status": "completed"
    },
    "tags": []
   },
   "source": [
    "## Evaluation metrics for SVD model"
   ]
  },
  {
   "cell_type": "code",
   "execution_count": 80,
   "id": "c874dfd3",
   "metadata": {
    "execution": {
     "iopub.execute_input": "2022-06-24T18:58:58.834881Z",
     "iopub.status.busy": "2022-06-24T18:58:58.834230Z",
     "iopub.status.idle": "2022-06-24T18:59:00.289983Z",
     "shell.execute_reply": "2022-06-24T18:59:00.288819Z"
    },
    "papermill": {
     "duration": 1.509728,
     "end_time": "2022-06-24T18:59:00.293401",
     "exception": false,
     "start_time": "2022-06-24T18:58:58.783673",
     "status": "completed"
    },
    "tags": []
   },
   "outputs": [
    {
     "name": "stdout",
     "output_type": "stream",
     "text": [
      "RMSE: 1.6360\n",
      "the accuracy is 1.6359824510549297\n"
     ]
    }
   ],
   "source": [
    "# displaying RMSE score\n",
    "predictions = model.test(testset)\n",
    "print(f\"the accuracy is {accuracy.rmse(predictions)}\")"
   ]
  },
  {
   "cell_type": "markdown",
   "id": "fa2cadd2",
   "metadata": {
    "papermill": {
     "duration": 0.048637,
     "end_time": "2022-06-24T18:59:00.392066",
     "exception": false,
     "start_time": "2022-06-24T18:59:00.343429",
     "status": "completed"
    },
    "tags": []
   },
   "source": [
    "The RMSE score is better now with 1.63."
   ]
  },
  {
   "cell_type": "markdown",
   "id": "bb9a295f",
   "metadata": {
    "papermill": {
     "duration": 0.04764,
     "end_time": "2022-06-24T18:59:00.487578",
     "exception": false,
     "start_time": "2022-06-24T18:59:00.439938",
     "status": "completed"
    },
    "tags": []
   },
   "source": [
    "## Testing Results"
   ]
  },
  {
   "cell_type": "code",
   "execution_count": 81,
   "id": "1970167a",
   "metadata": {
    "execution": {
     "iopub.execute_input": "2022-06-24T18:59:00.584906Z",
     "iopub.status.busy": "2022-06-24T18:59:00.583788Z",
     "iopub.status.idle": "2022-06-24T18:59:00.591059Z",
     "shell.execute_reply": "2022-06-24T18:59:00.589921Z"
    },
    "papermill": {
     "duration": 0.059089,
     "end_time": "2022-06-24T18:59:00.594426",
     "exception": false,
     "start_time": "2022-06-24T18:59:00.535337",
     "status": "completed"
    },
    "tags": []
   },
   "outputs": [
    {
     "name": "stdout",
     "output_type": "stream",
     "text": [
      "user: 276744     item: 038550120X r_ui = None   est = 7.49   {'was_impossible': False}\n"
     ]
    }
   ],
   "source": [
    "# to test result let's take an user-id and item-id to test our model.\n",
    "uid = 276744  \n",
    "iid = '038550120X' \n",
    "pred = model.predict(uid, iid, verbose=True)"
   ]
  },
  {
   "cell_type": "markdown",
   "id": "e89bc6cf",
   "metadata": {
    "papermill": {
     "duration": 0.04721,
     "end_time": "2022-06-24T18:59:00.690972",
     "exception": false,
     "start_time": "2022-06-24T18:59:00.643762",
     "status": "completed"
    },
    "tags": []
   },
   "source": [
    "Now let's display estimated rating and real rating"
   ]
  },
  {
   "cell_type": "code",
   "execution_count": 82,
   "id": "541f1f59",
   "metadata": {
    "execution": {
     "iopub.execute_input": "2022-06-24T18:59:00.788953Z",
     "iopub.status.busy": "2022-06-24T18:59:00.788204Z",
     "iopub.status.idle": "2022-06-24T18:59:00.857132Z",
     "shell.execute_reply": "2022-06-24T18:59:00.856022Z"
    },
    "papermill": {
     "duration": 0.120836,
     "end_time": "2022-06-24T18:59:00.859465",
     "exception": false,
     "start_time": "2022-06-24T18:59:00.738629",
     "status": "completed"
    },
    "tags": []
   },
   "outputs": [
    {
     "name": "stdout",
     "output_type": "stream",
     "text": [
      "The estimated rating for the book with ISBN code 038550120X from user #276744 is 7.49.\n",
      "\n",
      "The real rating given for this was 7.00.\n"
     ]
    }
   ],
   "source": [
    "# display estimated rating and real rating\n",
    "print(f'The estimated rating for the book with ISBN code {pred.iid} from user #{pred.uid} is {pred.est:.2f}.\\n')\n",
    "actual_rtg= ratings_explicit[(ratings_explicit.user_id==pred.uid) & \n",
    "                             (ratings_explicit.isbn==pred.iid)].book_rating.values[0]\n",
    "print(f'The real rating given for this was {actual_rtg:.2f}.')"
   ]
  },
  {
   "cell_type": "code",
   "execution_count": 83,
   "id": "2fbfdeef",
   "metadata": {
    "execution": {
     "iopub.execute_input": "2022-06-24T18:59:00.955565Z",
     "iopub.status.busy": "2022-06-24T18:59:00.955134Z",
     "iopub.status.idle": "2022-06-24T18:59:00.961954Z",
     "shell.execute_reply": "2022-06-24T18:59:00.961218Z"
    },
    "papermill": {
     "duration": 0.057262,
     "end_time": "2022-06-24T18:59:00.964088",
     "exception": false,
     "start_time": "2022-06-24T18:59:00.906826",
     "status": "completed"
    },
    "tags": []
   },
   "outputs": [],
   "source": [
    "# The following function was adapted from the surprise docs\n",
    "# and can be used to get the top book recommendations for each user.\n",
    "from collections import defaultdict\n",
    "\n",
    "def get_top_n(predictions, n=10):\n",
    "    \n",
    "    # First map the predictions to each user\n",
    "    top_n = defaultdict(list)\n",
    "    for uid, iid, true_r, est, _ in predictions:\n",
    "        top_n[uid].append((iid, est))\n",
    "\n",
    "    # Then sort the predictions for each user and retrieve the k highest ones\n",
    "    for uid, user_ratings in top_n.items():\n",
    "        user_ratings.sort(key=lambda x: x[1], reverse=True)\n",
    "        top_n[uid] = user_ratings[:n]\n",
    "        \n",
    "    return top_n"
   ]
  },
  {
   "cell_type": "code",
   "execution_count": 84,
   "id": "e352b6b3",
   "metadata": {
    "execution": {
     "iopub.execute_input": "2022-06-24T18:59:01.059565Z",
     "iopub.status.busy": "2022-06-24T18:59:01.058510Z",
     "iopub.status.idle": "2022-06-24T18:59:02.082985Z",
     "shell.execute_reply": "2022-06-24T18:59:02.081882Z"
    },
    "papermill": {
     "duration": 1.07524,
     "end_time": "2022-06-24T18:59:02.086139",
     "exception": false,
     "start_time": "2022-06-24T18:59:01.010899",
     "status": "completed"
    },
    "tags": []
   },
   "outputs": [],
   "source": [
    "# prediciton on teset and getting top predictions\n",
    "pred = model.test(testset)\n",
    "top_n = get_top_n(pred)"
   ]
  },
  {
   "cell_type": "code",
   "execution_count": 85,
   "id": "0f0811bc",
   "metadata": {
    "execution": {
     "iopub.execute_input": "2022-06-24T18:59:02.181900Z",
     "iopub.status.busy": "2022-06-24T18:59:02.181471Z",
     "iopub.status.idle": "2022-06-24T18:59:02.316475Z",
     "shell.execute_reply": "2022-06-24T18:59:02.315183Z"
    },
    "papermill": {
     "duration": 0.185765,
     "end_time": "2022-06-24T18:59:02.318976",
     "exception": false,
     "start_time": "2022-06-24T18:59:02.133211",
     "status": "completed"
    },
    "tags": []
   },
   "outputs": [
    {
     "data": {
      "text/html": [
       "<div>\n",
       "<style scoped>\n",
       "    .dataframe tbody tr th:only-of-type {\n",
       "        vertical-align: middle;\n",
       "    }\n",
       "\n",
       "    .dataframe tbody tr th {\n",
       "        vertical-align: top;\n",
       "    }\n",
       "\n",
       "    .dataframe thead th {\n",
       "        text-align: right;\n",
       "    }\n",
       "</style>\n",
       "<table border=\"1\" class=\"dataframe\">\n",
       "  <thead>\n",
       "    <tr style=\"text-align: right;\">\n",
       "      <th></th>\n",
       "      <th>uid</th>\n",
       "      <th>iid</th>\n",
       "      <th>r_ui</th>\n",
       "      <th>est</th>\n",
       "      <th>details</th>\n",
       "    </tr>\n",
       "  </thead>\n",
       "  <tbody>\n",
       "    <tr>\n",
       "      <th>0</th>\n",
       "      <td>98391</td>\n",
       "      <td>0843949759</td>\n",
       "      <td>8.0</td>\n",
       "      <td>8.845784</td>\n",
       "      <td>{'was_impossible': False}</td>\n",
       "    </tr>\n",
       "    <tr>\n",
       "      <th>1</th>\n",
       "      <td>11676</td>\n",
       "      <td>0571197639</td>\n",
       "      <td>6.0</td>\n",
       "      <td>7.825798</td>\n",
       "      <td>{'was_impossible': False}</td>\n",
       "    </tr>\n",
       "    <tr>\n",
       "      <th>2</th>\n",
       "      <td>277466</td>\n",
       "      <td>0553571885</td>\n",
       "      <td>8.0</td>\n",
       "      <td>8.057471</td>\n",
       "      <td>{'was_impossible': False}</td>\n",
       "    </tr>\n",
       "    <tr>\n",
       "      <th>3</th>\n",
       "      <td>53220</td>\n",
       "      <td>0515131156</td>\n",
       "      <td>8.0</td>\n",
       "      <td>8.144507</td>\n",
       "      <td>{'was_impossible': False}</td>\n",
       "    </tr>\n",
       "    <tr>\n",
       "      <th>4</th>\n",
       "      <td>43246</td>\n",
       "      <td>0425163407</td>\n",
       "      <td>8.0</td>\n",
       "      <td>8.189465</td>\n",
       "      <td>{'was_impossible': False}</td>\n",
       "    </tr>\n",
       "    <tr>\n",
       "      <th>...</th>\n",
       "      <td>...</td>\n",
       "      <td>...</td>\n",
       "      <td>...</td>\n",
       "      <td>...</td>\n",
       "      <td>...</td>\n",
       "    </tr>\n",
       "    <tr>\n",
       "      <th>76764</th>\n",
       "      <td>67591</td>\n",
       "      <td>0316569321</td>\n",
       "      <td>8.0</td>\n",
       "      <td>7.655947</td>\n",
       "      <td>{'was_impossible': False}</td>\n",
       "    </tr>\n",
       "    <tr>\n",
       "      <th>76765</th>\n",
       "      <td>236948</td>\n",
       "      <td>1860320600</td>\n",
       "      <td>10.0</td>\n",
       "      <td>8.771522</td>\n",
       "      <td>{'was_impossible': False}</td>\n",
       "    </tr>\n",
       "    <tr>\n",
       "      <th>76766</th>\n",
       "      <td>234828</td>\n",
       "      <td>0553283499</td>\n",
       "      <td>8.0</td>\n",
       "      <td>7.963772</td>\n",
       "      <td>{'was_impossible': False}</td>\n",
       "    </tr>\n",
       "    <tr>\n",
       "      <th>76767</th>\n",
       "      <td>193148</td>\n",
       "      <td>0897932188</td>\n",
       "      <td>9.0</td>\n",
       "      <td>7.778378</td>\n",
       "      <td>{'was_impossible': False}</td>\n",
       "    </tr>\n",
       "    <tr>\n",
       "      <th>76768</th>\n",
       "      <td>212628</td>\n",
       "      <td>0345289110</td>\n",
       "      <td>7.0</td>\n",
       "      <td>7.519503</td>\n",
       "      <td>{'was_impossible': False}</td>\n",
       "    </tr>\n",
       "  </tbody>\n",
       "</table>\n",
       "<p>76769 rows × 5 columns</p>\n",
       "</div>"
      ],
      "text/plain": [
       "          uid         iid  r_ui       est                    details\n",
       "0      98391   0843949759  8.0   8.845784  {'was_impossible': False}\n",
       "1      11676   0571197639  6.0   7.825798  {'was_impossible': False}\n",
       "2      277466  0553571885  8.0   8.057471  {'was_impossible': False}\n",
       "3      53220   0515131156  8.0   8.144507  {'was_impossible': False}\n",
       "4      43246   0425163407  8.0   8.189465  {'was_impossible': False}\n",
       "...      ...          ...  ...        ...                        ...\n",
       "76764  67591   0316569321  8.0   7.655947  {'was_impossible': False}\n",
       "76765  236948  1860320600  10.0  8.771522  {'was_impossible': False}\n",
       "76766  234828  0553283499  8.0   7.963772  {'was_impossible': False}\n",
       "76767  193148  0897932188  9.0   7.778378  {'was_impossible': False}\n",
       "76768  212628  0345289110  7.0   7.519503  {'was_impossible': False}\n",
       "\n",
       "[76769 rows x 5 columns]"
      ]
     },
     "execution_count": 85,
     "metadata": {},
     "output_type": "execute_result"
    }
   ],
   "source": [
    "pred_testset_df = pd.DataFrame(pred)\n",
    "pred_testset_df"
   ]
  },
  {
   "cell_type": "markdown",
   "id": "fb17b18d",
   "metadata": {
    "papermill": {
     "duration": 0.047363,
     "end_time": "2022-06-24T18:59:02.413625",
     "exception": false,
     "start_time": "2022-06-24T18:59:02.366262",
     "status": "completed"
    },
    "tags": []
   },
   "source": [
    "We can view predictions from testset that we performed with SVD model."
   ]
  },
  {
   "cell_type": "markdown",
   "id": "dc5dbdf5",
   "metadata": {
    "papermill": {
     "duration": 0.046149,
     "end_time": "2022-06-24T18:59:02.506193",
     "exception": false,
     "start_time": "2022-06-24T18:59:02.460044",
     "status": "completed"
    },
    "tags": []
   },
   "source": [
    "### Retrieving full book titles from full 'books_users_ratings' dataframe"
   ]
  },
  {
   "cell_type": "code",
   "execution_count": 86,
   "id": "4fc43e76",
   "metadata": {
    "execution": {
     "iopub.execute_input": "2022-06-24T18:59:02.602631Z",
     "iopub.status.busy": "2022-06-24T18:59:02.602172Z",
     "iopub.status.idle": "2022-06-24T18:59:02.608876Z",
     "shell.execute_reply": "2022-06-24T18:59:02.607677Z"
    },
    "papermill": {
     "duration": 0.057152,
     "end_time": "2022-06-24T18:59:02.611125",
     "exception": false,
     "start_time": "2022-06-24T18:59:02.553973",
     "status": "completed"
    },
    "tags": []
   },
   "outputs": [],
   "source": [
    "def get_reading_list(userid):\n",
    "    \n",
    "    reading_list = defaultdict(list)\n",
    "    top_n = get_top_n(pred, n=10)\n",
    "    for n in top_n[userid]:\n",
    "        book, rating = n\n",
    "        title = new_book_df.loc[new_book_df.isbn==book].book_title.unique()[0]\n",
    "        reading_list[title] = rating\n",
    "    return reading_list"
   ]
  },
  {
   "cell_type": "code",
   "execution_count": 87,
   "id": "a2626d13",
   "metadata": {
    "execution": {
     "iopub.execute_input": "2022-06-24T18:59:02.709243Z",
     "iopub.status.busy": "2022-06-24T18:59:02.708838Z",
     "iopub.status.idle": "2022-06-24T18:59:03.844722Z",
     "shell.execute_reply": "2022-06-24T18:59:03.843288Z"
    },
    "papermill": {
     "duration": 1.188099,
     "end_time": "2022-06-24T18:59:03.847720",
     "exception": false,
     "start_time": "2022-06-24T18:59:02.659621",
     "status": "completed"
    },
    "tags": []
   },
   "outputs": [
    {
     "name": "stdout",
     "output_type": "stream",
     "text": [
      "Clara Callan: 7.927590664738454\n",
      "The No. 1 Ladies' Detective Agency (Today Show Book Club #8): 7.918657844289749\n",
      "Algebra and Trigonometry, Unit Circle (6th Edition): 7.864206878613479\n",
      "Granta 52: Food : The Vital Stuff: 7.864206878613479\n",
      "Teach Yourself Web Publishing With Html in a Week (Teach Yourself (Teach Yourself)): 7.864206878613479\n",
      "Particle Physics: A Los Alamos Primer: 7.864206878613479\n",
      "The Man Who Tasted Shapes: A Bizarre Medical Mystery Offers Revolutionary Insights into Emotions, Reasoning, and Consciousness: 7.864206878613479\n",
      "Spanish Lessons : Beginning a New Life in Spain: 7.656673335490114\n",
      "Generation X: Tales for an Accelerated Culture: 7.622702525962612\n",
      "Metamagical Themas: Questing for the Essence of Mind and Pattern: 7.425998327650201\n"
     ]
    }
   ],
   "source": [
    "#take a random look at user_id\n",
    "example_reading_list = get_reading_list(userid=116866)\n",
    "for book, rating in example_reading_list.items():\n",
    "    print(f'{book}: {rating}')"
   ]
  },
  {
   "cell_type": "markdown",
   "id": "d8095483",
   "metadata": {
    "papermill": {
     "duration": 0.046577,
     "end_time": "2022-06-24T18:59:03.942013",
     "exception": false,
     "start_time": "2022-06-24T18:59:03.895436",
     "status": "completed"
    },
    "tags": []
   },
   "source": [
    "As we can observe above we've got top recommendation of books and ratings with respective to it. So this was my recommendation system for BOOK RECOMMENDATION SYSTEM."
   ]
  },
  {
   "cell_type": "markdown",
   "id": "8ff02660",
   "metadata": {
    "papermill": {
     "duration": 0.047916,
     "end_time": "2022-06-24T18:59:04.038122",
     "exception": false,
     "start_time": "2022-06-24T18:59:03.990206",
     "status": "completed"
    },
    "tags": []
   },
   "source": []
  }
 ],
 "metadata": {
  "kernelspec": {
   "display_name": "Python 3",
   "language": "python",
   "name": "python3"
  },
  "language_info": {
   "codemirror_mode": {
    "name": "ipython",
    "version": 3
   },
   "file_extension": ".py",
   "mimetype": "text/x-python",
   "name": "python",
   "nbconvert_exporter": "python",
   "pygments_lexer": "ipython3",
   "version": "3.7.12"
  },
  "papermill": {
   "default_parameters": {},
   "duration": 277.315887,
   "end_time": "2022-06-24T18:59:05.813790",
   "environment_variables": {},
   "exception": null,
   "input_path": "__notebook__.ipynb",
   "output_path": "__notebook__.ipynb",
   "parameters": {},
   "start_time": "2022-06-24T18:54:28.497903",
   "version": "2.3.4"
  }
 },
 "nbformat": 4,
 "nbformat_minor": 5
}
